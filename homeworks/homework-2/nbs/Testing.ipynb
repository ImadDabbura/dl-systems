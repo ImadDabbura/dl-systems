{
 "cells": [
  {
   "cell_type": "markdown",
   "id": "23edd15f-8e15-4359-b779-88c6dacb1f93",
   "metadata": {
    "jp-MarkdownHeadingCollapsed": true,
    "tags": []
   },
   "source": [
    "# Imports"
   ]
  },
  {
   "cell_type": "code",
   "execution_count": 1,
   "id": "075969bf-cf8f-4d93-bd49-605e89dda4cc",
   "metadata": {},
   "outputs": [],
   "source": [
    "import sys\n",
    "\n",
    "import numpy as np\n",
    "import torch\n",
    "import torch.nn as nn\n",
    "import torch.nn.functional as F\n",
    "import torch.optim as opt\n",
    "\n",
    "sys.path.append(\"hw2/python/\")\n",
    "import needle as ndl\n",
    "from needle.autograd import Tensor"
   ]
  },
  {
   "cell_type": "code",
   "execution_count": 2,
   "id": "178acf49-c0b1-4a9d-b64a-bb0b58ae334f",
   "metadata": {},
   "outputs": [],
   "source": [
    "%load_ext autoreload\n",
    "%autoreload 2"
   ]
  },
  {
   "cell_type": "code",
   "execution_count": 3,
   "id": "f13ac8d4-dbd7-43a2-941e-ee7b8ed1e4f6",
   "metadata": {},
   "outputs": [],
   "source": [
    "%load_ext lab_black"
   ]
  },
  {
   "cell_type": "code",
   "execution_count": 4,
   "id": "f0e3d558-9afe-4e29-8d94-f73a4aad61f2",
   "metadata": {},
   "outputs": [],
   "source": [
    "def get_tensor(*shape, entropy=1):\n",
    "    np.random.seed(np.prod(shape) * len(shape) * entropy)\n",
    "    return Tensor(np.random.randint(0, 100, size=shape) / 20, dtype=\"float32\")"
   ]
  },
  {
   "cell_type": "code",
   "execution_count": 5,
   "id": "48bdd796-555b-4ba4-b6df-1bd913d76def",
   "metadata": {},
   "outputs": [],
   "source": [
    "def get_int_tensor(*shape, low=0, high=10, entropy=1):\n",
    "    np.random.seed(np.prod(shape) * len(shape) * entropy)\n",
    "    return ndl.Tensor(np.random.randint(low, high, size=shape))"
   ]
  },
  {
   "cell_type": "markdown",
   "id": "5d0a849c-ed45-4d86-8f64-6c96134071f9",
   "metadata": {
    "tags": []
   },
   "source": [
    "# nn.Linear"
   ]
  },
  {
   "cell_type": "code",
   "execution_count": 187,
   "id": "fa7c194c-be87-4362-a3fa-2237bf7c9ed5",
   "metadata": {},
   "outputs": [],
   "source": [
    "def linear_backward(lhs_shape, rhs_shape):\n",
    "    np.random.seed(199)\n",
    "    f = ndl.nn.Linear(*lhs_shape)\n",
    "    global w\n",
    "    w = torch.tensor(\n",
    "        f.weight.detach().numpy().T, requires_grad=True, dtype=torch.float32\n",
    "    )\n",
    "    # f.bias.data = ndl.Tensor([[0.45, 0.75, 3.2, 1.4, 4.45]])\n",
    "    x = get_tensor(*rhs_shape)\n",
    "    # (f(x)**2).sum().backward()\n",
    "    # f(x).backward()\n",
    "    # return x.grad.cached_data"
   ]
  },
  {
   "cell_type": "code",
   "execution_count": 188,
   "id": "11677570-b72f-4c8f-8dfe-a46de18fe6ed",
   "metadata": {},
   "outputs": [],
   "source": [
    "w = 0"
   ]
  },
  {
   "cell_type": "code",
   "execution_count": 189,
   "id": "7dc536f4-bf05-4a24-98ca-4d405b5b9bc7",
   "metadata": {},
   "outputs": [],
   "source": [
    "linear_backward((10, 5), (1, 5))"
   ]
  },
  {
   "cell_type": "code",
   "execution_count": 190,
   "id": "618c5f09-669d-45b5-b732-cae1f1cc248e",
   "metadata": {},
   "outputs": [
    {
     "data": {
      "text/plain": [
       "tensor([[ 0.2398,  0.0695,  0.6817, -0.5950,  0.1376,  0.5538, -0.4724, -0.0554,\n",
       "         -0.6448, -0.2573],\n",
       "        [ 0.7468,  0.1851, -0.7049, -0.6065,  0.0610,  0.5069,  0.5349,  0.1249,\n",
       "          0.4423,  0.0860],\n",
       "        [-0.1551, -0.2605, -0.1237,  0.6068, -0.6507, -0.0049, -0.2992,  0.7216,\n",
       "         -0.4177,  0.3573],\n",
       "        [ 0.5332,  0.7452,  0.5112, -0.0863, -0.2221,  0.4689, -0.3573, -0.3319,\n",
       "         -0.6078, -0.2006],\n",
       "        [-0.0560, -0.3702,  0.1250,  0.0606, -0.2927, -0.0301,  0.5436,  0.5734,\n",
       "          0.7111,  0.5825]], requires_grad=True)"
      ]
     },
     "execution_count": 190,
     "metadata": {},
     "output_type": "execute_result"
    }
   ],
   "source": [
    "w"
   ]
  },
  {
   "cell_type": "code",
   "execution_count": 191,
   "id": "f8332018-05ed-4b95-aa1c-34c42eec6267",
   "metadata": {},
   "outputs": [],
   "source": [
    "np.random.seed(199)\n",
    "x = torch.tensor(get_tensor(1, 10).numpy(), requires_grad=True)\n",
    "lin = nn.Linear(10, 5)\n",
    "lin.bias.data = torch.tensor([4.95, 3.9, 3.05, 0.8, 3.65])\n",
    "lin.weight.data = w"
   ]
  },
  {
   "cell_type": "code",
   "execution_count": 192,
   "id": "41f8fdd6-bdde-462b-a97c-53f49bd8f8bf",
   "metadata": {},
   "outputs": [
    {
     "data": {
      "text/plain": [
       "tensor([[4.9500, 4.5000, 0.7500, 4.7500, 1.4000, 4.5000, 0.4500, 1.0000, 3.7500,\n",
       "         1.1000]], requires_grad=True)"
      ]
     },
     "execution_count": 192,
     "metadata": {},
     "output_type": "execute_result"
    }
   ],
   "source": [
    "x"
   ]
  },
  {
   "cell_type": "code",
   "execution_count": 193,
   "id": "22e5b457-99d4-447c-849c-d14111bac7a7",
   "metadata": {},
   "outputs": [
    {
     "data": {
      "text/plain": [
       "tensor([[3.8499, 9.5050, 2.3803, 5.5726, 5.6684]], grad_fn=<AddmmBackward0>)"
      ]
     },
     "execution_count": 193,
     "metadata": {},
     "output_type": "execute_result"
    }
   ],
   "source": [
    "y1 = lin(x)\n",
    "y1"
   ]
  },
  {
   "cell_type": "code",
   "execution_count": 194,
   "id": "7910e5da-b3d9-4c38-bb51-4794d0931140",
   "metadata": {},
   "outputs": [],
   "source": [
    "y2 = y1**2"
   ]
  },
  {
   "cell_type": "code",
   "execution_count": 195,
   "id": "0f3e6a6e-93d5-4289-9c61-2143407fea7d",
   "metadata": {},
   "outputs": [
    {
     "data": {
      "text/plain": [
       "tensor(174.0171, grad_fn=<SumBackward0>)"
      ]
     },
     "execution_count": 195,
     "metadata": {},
     "output_type": "execute_result"
    }
   ],
   "source": [
    "y3 = y2.sum()\n",
    "y3"
   ]
  },
  {
   "cell_type": "code",
   "execution_count": 196,
   "id": "bc74e6ff-0e70-47ed-89aa-9b7c8aeb0205",
   "metadata": {},
   "outputs": [],
   "source": [
    "y3.backward()"
   ]
  },
  {
   "cell_type": "code",
   "execution_count": 197,
   "id": "43a1c3ac-1b2b-4660-96a7-b22976616099",
   "metadata": {},
   "outputs": [
    {
     "data": {
      "text/plain": [
       "tensor([[ 20.6115,   6.9209,  -1.6256, -13.4977,  -6.6728,  18.7621,   7.2866,\n",
       "           8.1854,   2.7413,   5.7237]])"
      ]
     },
     "execution_count": 197,
     "metadata": {},
     "output_type": "execute_result"
    }
   ],
   "source": [
    "x.grad"
   ]
  },
  {
   "cell_type": "code",
   "execution_count": 198,
   "id": "867344a8-3751-47a7-a18e-d9e787ce00b8",
   "metadata": {},
   "outputs": [
    {
     "ename": "NameError",
     "evalue": "name 'b_ndl' is not defined",
     "output_type": "error",
     "traceback": [
      "\u001b[0;31m---------------------------------------------------------------------------\u001b[0m",
      "\u001b[0;31mNameError\u001b[0m                                 Traceback (most recent call last)",
      "Input \u001b[0;32mIn [198]\u001b[0m, in \u001b[0;36m<cell line: 1>\u001b[0;34m()\u001b[0m\n\u001b[0;32m----> 1\u001b[0m \u001b[43mb_ndl\u001b[49m, w_ndl, x\n",
      "\u001b[0;31mNameError\u001b[0m: name 'b_ndl' is not defined"
     ]
    }
   ],
   "source": [
    "b_ndl, w_ndl, x"
   ]
  },
  {
   "cell_type": "code",
   "execution_count": 199,
   "id": "7153dc44-f679-49d7-b999-e300069b1cf1",
   "metadata": {},
   "outputs": [
    {
     "data": {
      "text/plain": [
       "needle.Tensor([4.95 3.9  3.05 0.8  3.65])"
      ]
     },
     "execution_count": 199,
     "metadata": {},
     "output_type": "execute_result"
    }
   ],
   "source": [
    "get_tensor(5)"
   ]
  },
  {
   "cell_type": "code",
   "execution_count": 200,
   "id": "729d46a1-08a2-4ad2-b46b-e3fb0d0b9690",
   "metadata": {},
   "outputs": [
    {
     "data": {
      "text/plain": [
       "((10, 5), (5,), (1, 10))"
      ]
     },
     "execution_count": 200,
     "metadata": {},
     "output_type": "execute_result"
    }
   ],
   "source": [
    "w_ndl = ndl.Tensor(w.T.detach().numpy(), requires_grad=True)\n",
    "b_ndl = ndl.Tensor(lin.bias.data.numpy(), requires_grad=True)\n",
    "x_ndl = ndl.Tensor(x.detach().numpy(), requires_grad=True)\n",
    "w_ndl.shape, b_ndl.shape, x_ndl.shape"
   ]
  },
  {
   "cell_type": "code",
   "execution_count": 201,
   "id": "7e7e86ef-3028-40d4-9c40-8534d63bed54",
   "metadata": {},
   "outputs": [
    {
     "data": {
      "text/plain": [
       "needle.Tensor(174.01709)"
      ]
     },
     "execution_count": 201,
     "metadata": {},
     "output_type": "execute_result"
    }
   ],
   "source": [
    "y1 = x_ndl @ w_ndl + ndl.broadcast_to(ndl.reshape(b_ndl, (1, 5)), (1, 5))\n",
    "y2 = y1**2\n",
    "y3 = ndl.summation(y2)\n",
    "y3"
   ]
  },
  {
   "cell_type": "code",
   "execution_count": 202,
   "id": "14bc2b89-99f7-46df-8d8e-7b3fb8cbacf8",
   "metadata": {},
   "outputs": [],
   "source": [
    "y3.backward()"
   ]
  },
  {
   "cell_type": "code",
   "execution_count": 203,
   "id": "917f61c4-4817-4e5e-8d8c-a08efcc05461",
   "metadata": {},
   "outputs": [
    {
     "data": {
      "text/plain": [
       "tensor([[ 20.6115,   6.9209,  -1.6256, -13.4977,  -6.6728,  18.7621,   7.2866,\n",
       "           8.1854,   2.7413,   5.7237]])"
      ]
     },
     "execution_count": 203,
     "metadata": {},
     "output_type": "execute_result"
    }
   ],
   "source": [
    "x.grad"
   ]
  },
  {
   "cell_type": "markdown",
   "id": "6297700e-2d9d-4d30-be5f-4efef7643a8c",
   "metadata": {
    "tags": []
   },
   "source": [
    "# LogSumExp"
   ]
  },
  {
   "cell_type": "code",
   "execution_count": 411,
   "id": "d855f875-00de-46e2-9e66-ba5e1c331106",
   "metadata": {},
   "outputs": [
    {
     "data": {
      "text/plain": [
       "1"
      ]
     },
     "execution_count": 411,
     "metadata": {},
     "output_type": "execute_result"
    }
   ],
   "source": [
    "np.array([2, 2])"
   ]
  },
  {
   "cell_type": "code",
   "execution_count": 405,
   "id": "cdb2f7c0-9888-4038-9eeb-5c3a9d02111e",
   "metadata": {},
   "outputs": [
    {
     "data": {
      "text/plain": [
       "True"
      ]
     },
     "execution_count": 405,
     "metadata": {},
     "output_type": "execute_result"
    }
   ],
   "source": [
    "x = get_tensor(2, 2, 2)\n",
    "y = ndl.logsumexp(x, None)\n",
    "\n",
    "x_torch = torch.tensor(x.detach().numpy(), requires_grad=True)\n",
    "y_torch = torch.logsumexp(x_torch, (0, 1, 2))\n",
    "\n",
    "torch.allclose(torch.tensor(y.cached_data), y_torch)"
   ]
  },
  {
   "cell_type": "code",
   "execution_count": 406,
   "id": "90665a0c-8ab9-4699-b6cd-9a01b077478b",
   "metadata": {},
   "outputs": [
    {
     "data": {
      "text/plain": [
       "needle.Tensor([5.1138697])"
      ]
     },
     "execution_count": 406,
     "metadata": {},
     "output_type": "execute_result"
    }
   ],
   "source": [
    "y"
   ]
  },
  {
   "cell_type": "code",
   "execution_count": 407,
   "id": "61fcf81e-3078-431c-a0bb-fc503a4cce08",
   "metadata": {},
   "outputs": [
    {
     "data": {
      "text/plain": [
       "tensor(5.1139, grad_fn=<LogsumexpBackward0>)"
      ]
     },
     "execution_count": 407,
     "metadata": {},
     "output_type": "execute_result"
    }
   ],
   "source": [
    "y_torch"
   ]
  },
  {
   "cell_type": "code",
   "execution_count": 44,
   "id": "255db500-278c-4fea-ba21-9b91690c9117",
   "metadata": {},
   "outputs": [
    {
     "name": "stdout",
     "output_type": "stream",
     "text": [
      "LogSumExp gradient\n"
     ]
    },
    {
     "data": {
      "text/plain": [
       "True"
      ]
     },
     "execution_count": 44,
     "metadata": {},
     "output_type": "execute_result"
    }
   ],
   "source": [
    "rows = 5\n",
    "classes = 10\n",
    "\n",
    "x = get_tensor(rows, classes)\n",
    "y = ndl.logsumexp(x)\n",
    "y.backward()\n",
    "\n",
    "x_torch = torch.tensor(x.detach().numpy(), requires_grad=True)\n",
    "y_torch = torch.logsumexp(x_torch, (0, 1))\n",
    "y_torch.backward()\n",
    "\n",
    "torch.allclose(x_torch.grad.data, torch.tensor(x.grad.cached_data))"
   ]
  },
  {
   "cell_type": "code",
   "execution_count": 45,
   "id": "0225cfd1-3ad6-467a-94d2-579e4368defc",
   "metadata": {},
   "outputs": [
    {
     "name": "stdout",
     "output_type": "stream",
     "text": [
      "LogSumExp gradient\n"
     ]
    },
    {
     "data": {
      "text/plain": [
       "True"
      ]
     },
     "execution_count": 45,
     "metadata": {},
     "output_type": "execute_result"
    }
   ],
   "source": [
    "rows = 50\n",
    "classes = 100\n",
    "\n",
    "x = get_tensor(rows, classes)\n",
    "y = ndl.logsumexp(x)\n",
    "y.backward()\n",
    "\n",
    "x_torch = torch.tensor(x.detach().numpy(), requires_grad=True)\n",
    "y_torch = torch.logsumexp(x_torch, (0, 1))\n",
    "y_torch.backward()\n",
    "\n",
    "torch.allclose(x_torch.grad.data, torch.tensor(x.grad.cached_data))"
   ]
  },
  {
   "cell_type": "code",
   "execution_count": 46,
   "id": "a919015b-e166-47a1-ba33-1d3640b21656",
   "metadata": {},
   "outputs": [
    {
     "name": "stdout",
     "output_type": "stream",
     "text": [
      "LogSumExp gradient\n"
     ]
    },
    {
     "data": {
      "text/plain": [
       "True"
      ]
     },
     "execution_count": 46,
     "metadata": {},
     "output_type": "execute_result"
    }
   ],
   "source": [
    "rows = 5\n",
    "classes = 10\n",
    "\n",
    "x = get_tensor(rows, classes)\n",
    "y = ndl.logsumexp(x, (1,))\n",
    "y.backward()\n",
    "\n",
    "x_torch = torch.tensor(x.detach().numpy(), requires_grad=True)\n",
    "y_torch = torch.logsumexp(x_torch, (1,))\n",
    "y_torch.backward(torch.ones_like(y_torch))\n",
    "\n",
    "torch.allclose(x_torch.grad.data, torch.tensor(x.grad.cached_data))"
   ]
  },
  {
   "cell_type": "code",
   "execution_count": 47,
   "id": "44961bbc-a0b0-4736-aacc-042d7ab67309",
   "metadata": {},
   "outputs": [
    {
     "name": "stdout",
     "output_type": "stream",
     "text": [
      "LogSumExp gradient\n"
     ]
    },
    {
     "data": {
      "text/plain": [
       "True"
      ]
     },
     "execution_count": 47,
     "metadata": {},
     "output_type": "execute_result"
    }
   ],
   "source": [
    "rows = 5\n",
    "classes = 10\n",
    "\n",
    "x = get_tensor(rows, classes)\n",
    "y = ndl.logsumexp(x, (0,))\n",
    "y.backward()\n",
    "\n",
    "x_torch = torch.tensor(x.detach().numpy(), requires_grad=True)\n",
    "y_torch = torch.logsumexp(x_torch, (0,))\n",
    "y_torch.backward(torch.ones_like(y_torch))\n",
    "\n",
    "torch.allclose(x_torch.grad.data, torch.tensor(x.grad.cached_data))"
   ]
  },
  {
   "cell_type": "markdown",
   "id": "951ac716-1ffd-46f4-b66d-c604aa7b109d",
   "metadata": {
    "jp-MarkdownHeadingCollapsed": true,
    "tags": []
   },
   "source": [
    "# SoftmaxLoss"
   ]
  },
  {
   "cell_type": "code",
   "execution_count": 66,
   "id": "f9a3f430-3a9f-4e5e-89ae-40c62f7c72e8",
   "metadata": {},
   "outputs": [
    {
     "data": {
      "text/plain": [
       "Dropout(p=0.5, inplace=False)"
      ]
     },
     "execution_count": 66,
     "metadata": {},
     "output_type": "execute_result"
    }
   ],
   "source": [
    "nn.Dropout()"
   ]
  },
  {
   "cell_type": "code",
   "execution_count": 67,
   "id": "1223fb08-1e88-4351-8cae-70964c720856",
   "metadata": {},
   "outputs": [
    {
     "data": {
      "text/plain": [
       "\u001b[0;31mDocstring:\u001b[0m\n",
       "bernoulli(*, generator=None) -> Tensor\n",
       "\n",
       "Returns a result tensor where each :math:`\\texttt{result[i]}` is independently\n",
       "sampled from :math:`\\text{Bernoulli}(\\texttt{self[i]})`. :attr:`self` must have\n",
       "floating point ``dtype``, and the result will have the same ``dtype``.\n",
       "\n",
       "See :func:`torch.bernoulli`\n",
       "\u001b[0;31mType:\u001b[0m      builtin_function_or_method\n"
      ]
     },
     "metadata": {},
     "output_type": "display_data"
    }
   ],
   "source": [
    "x_torch.bernoulli??"
   ]
  },
  {
   "cell_type": "code",
   "execution_count": 65,
   "id": "20d0f13c-49bf-423c-9d94-63e5ae4fadd7",
   "metadata": {},
   "outputs": [
    {
     "data": {
      "text/plain": [
       "True"
      ]
     },
     "execution_count": 65,
     "metadata": {},
     "output_type": "execute_result"
    }
   ],
   "source": [
    "rows = 5\n",
    "classes = 10\n",
    "x = get_tensor(rows, classes)\n",
    "y = get_int_tensor(rows, low=0, high=classes)\n",
    "f = ndl.nn.SoftmaxLoss()\n",
    "loss = f(x, y)\n",
    "loss.backward()\n",
    "\n",
    "x_torch = torch.tensor(x.detach().numpy(), requires_grad=True)\n",
    "y_torch = torch.tensor(y.detach().numpy().astype(\"float\"), requires_grad=True).long()\n",
    "f_torch = nn.CrossEntropyLoss()\n",
    "loss_torch = f_torch(x_torch, y_torch)\n",
    "loss_torch.backward()\n",
    "\n",
    "torch.allclose(x_torch.grad.data, torch.tensor(x.grad.cached_data, dtype=torch.float32))"
   ]
  },
  {
   "cell_type": "markdown",
   "id": "0798dee9-9977-4b71-817c-faa093060966",
   "metadata": {
    "jp-MarkdownHeadingCollapsed": true,
    "tags": []
   },
   "source": [
    "# BatchNorm"
   ]
  },
  {
   "cell_type": "code",
   "execution_count": 5,
   "id": "31bdba66-35c9-4cc2-ab2f-07784baf3af4",
   "metadata": {},
   "outputs": [
    {
     "data": {
      "text/plain": [
       "needle.Tensor([[ 6.8662453   3.2144845   0.3852415   3.3185995 ]\n",
       " [-0.7392421  -0.78740615  6.588537    0.83170843]\n",
       " [ 7.4094944  -3.8132255   2.9521224   6.999198  ]\n",
       " [-1.2824903   2.4336276   5.9468174   8.690283  ]\n",
       " [ 8.495994    3.7025197   4.877283    4.9102097 ]])"
      ]
     },
     "execution_count": 5,
     "metadata": {},
     "output_type": "execute_result"
    }
   ],
   "source": [
    "x = get_tensor(5, 4)\n",
    "bn = ndl.nn.BatchNorm1d(4)\n",
    "weight = get_tensor(4, entropy=42)\n",
    "bias = get_tensor(4, entropy=1337)\n",
    "bn.weight.data = weight\n",
    "bn.bias.data = bias\n",
    "y_ndl = bn(x)\n",
    "y_ndl"
   ]
  },
  {
   "cell_type": "code",
   "execution_count": 212,
   "id": "f7da2a72-39a1-45b9-b278-47cbd1f6c053",
   "metadata": {},
   "outputs": [
    {
     "data": {
      "text/plain": [
       "needle.Tensor([0.32500002 0.33900002 0.211      0.26700002])"
      ]
     },
     "execution_count": 212,
     "metadata": {},
     "output_type": "execute_result"
    }
   ],
   "source": [
    "bn.running_mean"
   ]
  },
  {
   "cell_type": "code",
   "execution_count": 213,
   "id": "c20097c1-f1e5-44ca-97c8-f9ceefca059b",
   "metadata": {},
   "outputs": [
    {
     "data": {
      "text/plain": [
       "needle.Tensor([0.91912496 1.166425   1.0383     1.1388249 ])"
      ]
     },
     "execution_count": 213,
     "metadata": {},
     "output_type": "execute_result"
    }
   ],
   "source": [
    "bn.running_var"
   ]
  },
  {
   "cell_type": "code",
   "execution_count": 217,
   "id": "9073d58a-45c4-49b9-a34b-0f1bfd387729",
   "metadata": {},
   "outputs": [
    {
     "data": {
      "text/plain": [
       "(1, 2)"
      ]
     },
     "execution_count": 217,
     "metadata": {},
     "output_type": "execute_result"
    }
   ],
   "source": [
    "tuple((1, 2))"
   ]
  },
  {
   "cell_type": "code",
   "execution_count": 218,
   "id": "cebc194d-c8ab-49d9-bb19-2df2aaa74787",
   "metadata": {},
   "outputs": [],
   "source": [
    "def tuplify(obj):\n",
    "    \"\"\"Convert `obj` to tuple.\"\"\"\n",
    "    if isinstance(obj, tuple):\n",
    "        return obj\n",
    "    return tuple(listify(obj))"
   ]
  },
  {
   "cell_type": "code",
   "execution_count": 220,
   "id": "ee94c19b-9dd1-4359-b508-4ccad79e0868",
   "metadata": {},
   "outputs": [
    {
     "data": {
      "text/plain": [
       "[]"
      ]
     },
     "execution_count": 220,
     "metadata": {},
     "output_type": "execute_result"
    }
   ],
   "source": [
    "ndl.nn.Sequential(nn.Linear(10, 10)).parameters()"
   ]
  },
  {
   "cell_type": "code",
   "execution_count": 216,
   "id": "9b3472e6-61aa-454f-ab29-ec01ad237a4a",
   "metadata": {},
   "outputs": [
    {
     "ename": "ValueError",
     "evalue": "cannot reshape array of size 5 into shape (4,)",
     "output_type": "error",
     "traceback": [
      "\u001b[0;31m---------------------------------------------------------------------------\u001b[0m",
      "\u001b[0;31mValueError\u001b[0m                                Traceback (most recent call last)",
      "Input \u001b[0;32mIn [216]\u001b[0m, in \u001b[0;36m<cell line: 1>\u001b[0;34m()\u001b[0m\n\u001b[0;32m----> 1\u001b[0m \u001b[43my_ndl\u001b[49m\u001b[38;5;241;43m.\u001b[39;49m\u001b[43mbackward\u001b[49m\u001b[43m(\u001b[49m\u001b[43m)\u001b[49m\n",
      "File \u001b[0;32m~/Documents/dl-systems/hw2/python/needle/autograd.py:349\u001b[0m, in \u001b[0;36mTensor.backward\u001b[0;34m(self, out_grad)\u001b[0m\n\u001b[1;32m    343\u001b[0m \u001b[38;5;28;01mdef\u001b[39;00m \u001b[38;5;21mbackward\u001b[39m(\u001b[38;5;28mself\u001b[39m, out_grad\u001b[38;5;241m=\u001b[39m\u001b[38;5;28;01mNone\u001b[39;00m):\n\u001b[1;32m    344\u001b[0m     out_grad \u001b[38;5;241m=\u001b[39m (\n\u001b[1;32m    345\u001b[0m         out_grad\n\u001b[1;32m    346\u001b[0m         \u001b[38;5;28;01mif\u001b[39;00m out_grad\n\u001b[1;32m    347\u001b[0m         \u001b[38;5;28;01melse\u001b[39;00m init\u001b[38;5;241m.\u001b[39mones(\u001b[38;5;241m*\u001b[39m\u001b[38;5;28mself\u001b[39m\u001b[38;5;241m.\u001b[39mshape, dtype\u001b[38;5;241m=\u001b[39m\u001b[38;5;28mself\u001b[39m\u001b[38;5;241m.\u001b[39mdtype, device\u001b[38;5;241m=\u001b[39m\u001b[38;5;28mself\u001b[39m\u001b[38;5;241m.\u001b[39mdevice)\n\u001b[1;32m    348\u001b[0m     )\n\u001b[0;32m--> 349\u001b[0m     \u001b[43mcompute_gradient_of_variables\u001b[49m\u001b[43m(\u001b[49m\u001b[38;5;28;43mself\u001b[39;49m\u001b[43m,\u001b[49m\u001b[43m \u001b[49m\u001b[43mout_grad\u001b[49m\u001b[43m)\u001b[49m\n",
      "File \u001b[0;32m~/Documents/dl-systems/hw2/python/needle/autograd.py:441\u001b[0m, in \u001b[0;36mcompute_gradient_of_variables\u001b[0;34m(output_tensor, out_grad)\u001b[0m\n\u001b[1;32m    439\u001b[0m out_tensor\u001b[38;5;241m.\u001b[39mgrad \u001b[38;5;241m=\u001b[39m out_grad\n\u001b[1;32m    440\u001b[0m \u001b[38;5;28;01mif\u001b[39;00m out_tensor\u001b[38;5;241m.\u001b[39mop:\n\u001b[0;32m--> 441\u001b[0m     partial_adjoints \u001b[38;5;241m=\u001b[39m \u001b[43mout_tensor\u001b[49m\u001b[38;5;241;43m.\u001b[39;49m\u001b[43mop\u001b[49m\u001b[38;5;241;43m.\u001b[39;49m\u001b[43mgradient_as_tuple\u001b[49m\u001b[43m(\u001b[49m\n\u001b[1;32m    442\u001b[0m \u001b[43m        \u001b[49m\u001b[43mout_grad\u001b[49m\u001b[43m,\u001b[49m\u001b[43m \u001b[49m\u001b[43mout_tensor\u001b[49m\n\u001b[1;32m    443\u001b[0m \u001b[43m    \u001b[49m\u001b[43m)\u001b[49m\n\u001b[1;32m    444\u001b[0m     \u001b[38;5;28;01mfor\u001b[39;00m input_node, partial_adjoint \u001b[38;5;129;01min\u001b[39;00m \u001b[38;5;28mzip\u001b[39m(\n\u001b[1;32m    445\u001b[0m         out_tensor\u001b[38;5;241m.\u001b[39minputs, partial_adjoints\n\u001b[1;32m    446\u001b[0m     ):\n\u001b[1;32m    447\u001b[0m         node_to_output_grads_list\u001b[38;5;241m.\u001b[39msetdefault(input_node, [])\u001b[38;5;241m.\u001b[39mappend(\n\u001b[1;32m    448\u001b[0m             partial_adjoint\n\u001b[1;32m    449\u001b[0m         )\n",
      "File \u001b[0;32m~/Documents/dl-systems/hw2/python/needle/autograd.py:115\u001b[0m, in \u001b[0;36mOp.gradient_as_tuple\u001b[0;34m(self, out_grad, node)\u001b[0m\n\u001b[1;32m    111\u001b[0m \u001b[38;5;28;01mdef\u001b[39;00m \u001b[38;5;21mgradient_as_tuple\u001b[39m(\n\u001b[1;32m    112\u001b[0m     \u001b[38;5;28mself\u001b[39m, out_grad: \u001b[38;5;124m\"\u001b[39m\u001b[38;5;124mValue\u001b[39m\u001b[38;5;124m\"\u001b[39m, node: \u001b[38;5;124m\"\u001b[39m\u001b[38;5;124mValue\u001b[39m\u001b[38;5;124m\"\u001b[39m\n\u001b[1;32m    113\u001b[0m ) \u001b[38;5;241m-\u001b[39m\u001b[38;5;241m>\u001b[39m Tuple[\u001b[38;5;124m\"\u001b[39m\u001b[38;5;124mValue\u001b[39m\u001b[38;5;124m\"\u001b[39m]:\n\u001b[1;32m    114\u001b[0m     \u001b[38;5;124;03m\"\"\"Convenience method to always return a tuple from gradient call\"\"\"\u001b[39;00m\n\u001b[0;32m--> 115\u001b[0m     output \u001b[38;5;241m=\u001b[39m \u001b[38;5;28;43mself\u001b[39;49m\u001b[38;5;241;43m.\u001b[39;49m\u001b[43mgradient\u001b[49m\u001b[43m(\u001b[49m\u001b[43mout_grad\u001b[49m\u001b[43m,\u001b[49m\u001b[43m \u001b[49m\u001b[43mnode\u001b[49m\u001b[43m)\u001b[49m\n\u001b[1;32m    116\u001b[0m     \u001b[38;5;28;01mif\u001b[39;00m \u001b[38;5;28misinstance\u001b[39m(output, \u001b[38;5;28mtuple\u001b[39m):\n\u001b[1;32m    117\u001b[0m         \u001b[38;5;28;01mreturn\u001b[39;00m output\n",
      "File \u001b[0;32m~/Documents/dl-systems/hw2/python/needle/ops.py:248\u001b[0m, in \u001b[0;36mBroadcastTo.gradient\u001b[0;34m(self, out_grad, node)\u001b[0m\n\u001b[1;32m    242\u001b[0m axes \u001b[38;5;241m=\u001b[39m [\n\u001b[1;32m    243\u001b[0m     i\n\u001b[1;32m    244\u001b[0m     \u001b[38;5;28;01mfor\u001b[39;00m i, x \u001b[38;5;129;01min\u001b[39;00m \u001b[38;5;28menumerate\u001b[39m(zip_longest(input_shape, out_grad\u001b[38;5;241m.\u001b[39mshape))\n\u001b[1;32m    245\u001b[0m     \u001b[38;5;28;01mif\u001b[39;00m x[\u001b[38;5;241m0\u001b[39m] \u001b[38;5;241m==\u001b[39m \u001b[38;5;241m1\u001b[39m \u001b[38;5;129;01mor\u001b[39;00m \u001b[38;5;129;01mnot\u001b[39;00m x[\u001b[38;5;241m0\u001b[39m]\n\u001b[1;32m    246\u001b[0m ]\n\u001b[1;32m    247\u001b[0m out \u001b[38;5;241m=\u001b[39m summation(out_grad, \u001b[38;5;28mtuple\u001b[39m(axes))\n\u001b[0;32m--> 248\u001b[0m out \u001b[38;5;241m=\u001b[39m \u001b[43mreshape\u001b[49m\u001b[43m(\u001b[49m\u001b[43mout\u001b[49m\u001b[43m,\u001b[49m\u001b[43m \u001b[49m\u001b[43minput_shape\u001b[49m\u001b[43m)\u001b[49m\n\u001b[1;32m    249\u001b[0m \u001b[38;5;28;01mreturn\u001b[39;00m out\n",
      "File \u001b[0;32m~/Documents/dl-systems/hw2/python/needle/ops.py:229\u001b[0m, in \u001b[0;36mreshape\u001b[0;34m(a, shape)\u001b[0m\n\u001b[1;32m    228\u001b[0m \u001b[38;5;28;01mdef\u001b[39;00m \u001b[38;5;21mreshape\u001b[39m(a, shape):\n\u001b[0;32m--> 229\u001b[0m     \u001b[38;5;28;01mreturn\u001b[39;00m \u001b[43mReshape\u001b[49m\u001b[43m(\u001b[49m\u001b[43mshape\u001b[49m\u001b[43m)\u001b[49m\u001b[43m(\u001b[49m\u001b[43ma\u001b[49m\u001b[43m)\u001b[49m\n",
      "File \u001b[0;32m~/Documents/dl-systems/hw2/python/needle/autograd.py:128\u001b[0m, in \u001b[0;36mTensorOp.__call__\u001b[0;34m(self, *args)\u001b[0m\n\u001b[1;32m    127\u001b[0m \u001b[38;5;28;01mdef\u001b[39;00m \u001b[38;5;21m__call__\u001b[39m(\u001b[38;5;28mself\u001b[39m, \u001b[38;5;241m*\u001b[39margs):\n\u001b[0;32m--> 128\u001b[0m     \u001b[38;5;28;01mreturn\u001b[39;00m \u001b[43mTensor\u001b[49m\u001b[38;5;241;43m.\u001b[39;49m\u001b[43mmake_from_op\u001b[49m\u001b[43m(\u001b[49m\u001b[38;5;28;43mself\u001b[39;49m\u001b[43m,\u001b[49m\u001b[43m \u001b[49m\u001b[43margs\u001b[49m\u001b[43m)\u001b[49m\n",
      "File \u001b[0;32m~/Documents/dl-systems/hw2/python/needle/autograd.py:293\u001b[0m, in \u001b[0;36mTensor.make_from_op\u001b[0;34m(op, inputs)\u001b[0m\n\u001b[1;32m    291\u001b[0m \u001b[38;5;28;01mif\u001b[39;00m \u001b[38;5;129;01mnot\u001b[39;00m LAZY_MODE:\n\u001b[1;32m    292\u001b[0m     \u001b[38;5;28;01mif\u001b[39;00m \u001b[38;5;129;01mnot\u001b[39;00m tensor\u001b[38;5;241m.\u001b[39mrequires_grad:\n\u001b[0;32m--> 293\u001b[0m         \u001b[38;5;28;01mreturn\u001b[39;00m \u001b[43mtensor\u001b[49m\u001b[38;5;241;43m.\u001b[39;49m\u001b[43mdetach\u001b[49m\u001b[43m(\u001b[49m\u001b[43m)\u001b[49m\n\u001b[1;32m    294\u001b[0m     tensor\u001b[38;5;241m.\u001b[39mrealize_cached_data()\n\u001b[1;32m    295\u001b[0m \u001b[38;5;28;01mreturn\u001b[39;00m tensor\n",
      "File \u001b[0;32m~/Documents/dl-systems/hw2/python/needle/autograd.py:325\u001b[0m, in \u001b[0;36mTensor.detach\u001b[0;34m(self)\u001b[0m\n\u001b[1;32m    323\u001b[0m \u001b[38;5;28;01mdef\u001b[39;00m \u001b[38;5;21mdetach\u001b[39m(\u001b[38;5;28mself\u001b[39m):\n\u001b[1;32m    324\u001b[0m     \u001b[38;5;124;03m\"\"\"Create a new tensor that shares the data but detaches from the graph.\"\"\"\u001b[39;00m\n\u001b[0;32m--> 325\u001b[0m     \u001b[38;5;28;01mreturn\u001b[39;00m Tensor\u001b[38;5;241m.\u001b[39mmake_const(\u001b[38;5;28;43mself\u001b[39;49m\u001b[38;5;241;43m.\u001b[39;49m\u001b[43mrealize_cached_data\u001b[49m\u001b[43m(\u001b[49m\u001b[43m)\u001b[49m)\n",
      "File \u001b[0;32m~/Documents/dl-systems/hw2/python/needle/autograd.py:155\u001b[0m, in \u001b[0;36mValue.realize_cached_data\u001b[0;34m(self)\u001b[0m\n\u001b[1;32m    153\u001b[0m     \u001b[38;5;28;01mreturn\u001b[39;00m \u001b[38;5;28mself\u001b[39m\u001b[38;5;241m.\u001b[39mcached_data\n\u001b[1;32m    154\u001b[0m \u001b[38;5;66;03m# note: data implicitly calls realized cached data\u001b[39;00m\n\u001b[0;32m--> 155\u001b[0m \u001b[38;5;28mself\u001b[39m\u001b[38;5;241m.\u001b[39mcached_data \u001b[38;5;241m=\u001b[39m \u001b[38;5;28;43mself\u001b[39;49m\u001b[38;5;241;43m.\u001b[39;49m\u001b[43mop\u001b[49m\u001b[38;5;241;43m.\u001b[39;49m\u001b[43mcompute\u001b[49m\u001b[43m(\u001b[49m\n\u001b[1;32m    156\u001b[0m \u001b[43m    \u001b[49m\u001b[38;5;241;43m*\u001b[39;49m\u001b[43m[\u001b[49m\u001b[43mx\u001b[49m\u001b[38;5;241;43m.\u001b[39;49m\u001b[43mrealize_cached_data\u001b[49m\u001b[43m(\u001b[49m\u001b[43m)\u001b[49m\u001b[43m \u001b[49m\u001b[38;5;28;43;01mfor\u001b[39;49;00m\u001b[43m \u001b[49m\u001b[43mx\u001b[49m\u001b[43m \u001b[49m\u001b[38;5;129;43;01min\u001b[39;49;00m\u001b[43m \u001b[49m\u001b[38;5;28;43mself\u001b[39;49m\u001b[38;5;241;43m.\u001b[39;49m\u001b[43minputs\u001b[49m\u001b[43m]\u001b[49m\n\u001b[1;32m    157\u001b[0m \u001b[43m\u001b[49m\u001b[43m)\u001b[49m\n\u001b[1;32m    158\u001b[0m \u001b[38;5;28;01mreturn\u001b[39;00m \u001b[38;5;28mself\u001b[39m\u001b[38;5;241m.\u001b[39mcached_data\n",
      "File \u001b[0;32m~/Documents/dl-systems/hw2/python/needle/ops.py:218\u001b[0m, in \u001b[0;36mReshape.compute\u001b[0;34m(self, a)\u001b[0m\n\u001b[1;32m    216\u001b[0m \u001b[38;5;28;01mdef\u001b[39;00m \u001b[38;5;21mcompute\u001b[39m(\u001b[38;5;28mself\u001b[39m, a):\n\u001b[1;32m    217\u001b[0m     \u001b[38;5;66;03m### BEGIN YOUR SOLUTION\u001b[39;00m\n\u001b[0;32m--> 218\u001b[0m     \u001b[38;5;28;01mreturn\u001b[39;00m \u001b[43marray_api\u001b[49m\u001b[38;5;241;43m.\u001b[39;49m\u001b[43mreshape\u001b[49m\u001b[43m(\u001b[49m\u001b[43ma\u001b[49m\u001b[43m,\u001b[49m\u001b[43m \u001b[49m\u001b[38;5;28;43mself\u001b[39;49m\u001b[38;5;241;43m.\u001b[39;49m\u001b[43mshape\u001b[49m\u001b[43m)\u001b[49m\n",
      "File \u001b[0;32m<__array_function__ internals>:180\u001b[0m, in \u001b[0;36mreshape\u001b[0;34m(*args, **kwargs)\u001b[0m\n",
      "File \u001b[0;32m~/anaconda3/envs/dl/lib/python3.10/site-packages/numpy/core/fromnumeric.py:298\u001b[0m, in \u001b[0;36mreshape\u001b[0;34m(a, newshape, order)\u001b[0m\n\u001b[1;32m    198\u001b[0m \u001b[38;5;129m@array_function_dispatch\u001b[39m(_reshape_dispatcher)\n\u001b[1;32m    199\u001b[0m \u001b[38;5;28;01mdef\u001b[39;00m \u001b[38;5;21mreshape\u001b[39m(a, newshape, order\u001b[38;5;241m=\u001b[39m\u001b[38;5;124m'\u001b[39m\u001b[38;5;124mC\u001b[39m\u001b[38;5;124m'\u001b[39m):\n\u001b[1;32m    200\u001b[0m     \u001b[38;5;124;03m\"\"\"\u001b[39;00m\n\u001b[1;32m    201\u001b[0m \u001b[38;5;124;03m    Gives a new shape to an array without changing its data.\u001b[39;00m\n\u001b[1;32m    202\u001b[0m \n\u001b[0;32m   (...)\u001b[0m\n\u001b[1;32m    296\u001b[0m \u001b[38;5;124;03m           [5, 6]])\u001b[39;00m\n\u001b[1;32m    297\u001b[0m \u001b[38;5;124;03m    \"\"\"\u001b[39;00m\n\u001b[0;32m--> 298\u001b[0m     \u001b[38;5;28;01mreturn\u001b[39;00m \u001b[43m_wrapfunc\u001b[49m\u001b[43m(\u001b[49m\u001b[43ma\u001b[49m\u001b[43m,\u001b[49m\u001b[43m \u001b[49m\u001b[38;5;124;43m'\u001b[39;49m\u001b[38;5;124;43mreshape\u001b[39;49m\u001b[38;5;124;43m'\u001b[39;49m\u001b[43m,\u001b[49m\u001b[43m \u001b[49m\u001b[43mnewshape\u001b[49m\u001b[43m,\u001b[49m\u001b[43m \u001b[49m\u001b[43morder\u001b[49m\u001b[38;5;241;43m=\u001b[39;49m\u001b[43morder\u001b[49m\u001b[43m)\u001b[49m\n",
      "File \u001b[0;32m~/anaconda3/envs/dl/lib/python3.10/site-packages/numpy/core/fromnumeric.py:57\u001b[0m, in \u001b[0;36m_wrapfunc\u001b[0;34m(obj, method, *args, **kwds)\u001b[0m\n\u001b[1;32m     54\u001b[0m     \u001b[38;5;28;01mreturn\u001b[39;00m _wrapit(obj, method, \u001b[38;5;241m*\u001b[39margs, \u001b[38;5;241m*\u001b[39m\u001b[38;5;241m*\u001b[39mkwds)\n\u001b[1;32m     56\u001b[0m \u001b[38;5;28;01mtry\u001b[39;00m:\n\u001b[0;32m---> 57\u001b[0m     \u001b[38;5;28;01mreturn\u001b[39;00m \u001b[43mbound\u001b[49m\u001b[43m(\u001b[49m\u001b[38;5;241;43m*\u001b[39;49m\u001b[43margs\u001b[49m\u001b[43m,\u001b[49m\u001b[43m \u001b[49m\u001b[38;5;241;43m*\u001b[39;49m\u001b[38;5;241;43m*\u001b[39;49m\u001b[43mkwds\u001b[49m\u001b[43m)\u001b[49m\n\u001b[1;32m     58\u001b[0m \u001b[38;5;28;01mexcept\u001b[39;00m \u001b[38;5;167;01mTypeError\u001b[39;00m:\n\u001b[1;32m     59\u001b[0m     \u001b[38;5;66;03m# A TypeError occurs if the object does have such a method in its\u001b[39;00m\n\u001b[1;32m     60\u001b[0m     \u001b[38;5;66;03m# class, but its signature is not identical to that of NumPy's. This\u001b[39;00m\n\u001b[0;32m   (...)\u001b[0m\n\u001b[1;32m     64\u001b[0m     \u001b[38;5;66;03m# Call _wrapit from within the except clause to ensure a potential\u001b[39;00m\n\u001b[1;32m     65\u001b[0m     \u001b[38;5;66;03m# exception has a traceback chain.\u001b[39;00m\n\u001b[1;32m     66\u001b[0m     \u001b[38;5;28;01mreturn\u001b[39;00m _wrapit(obj, method, \u001b[38;5;241m*\u001b[39margs, \u001b[38;5;241m*\u001b[39m\u001b[38;5;241m*\u001b[39mkwds)\n",
      "\u001b[0;31mValueError\u001b[0m: cannot reshape array of size 5 into shape (4,)"
     ]
    }
   ],
   "source": [
    "y_ndl.backward()"
   ]
  },
  {
   "cell_type": "code",
   "execution_count": 214,
   "id": "387a28c6-0014-451a-b214-616c96cd20f6",
   "metadata": {},
   "outputs": [],
   "source": [
    "x_torch = torch.tensor(x.detach().numpy(), requires_grad=True)\n",
    "w_torch = torch.tensor(weight.detach().numpy(), requires_grad=True)\n",
    "b_torch = torch.tensor(bias.detach().numpy(), requires_grad=True)\n",
    "bn_torch = nn.BatchNorm1d(x_torch.shape[1])\n",
    "bn_torch.weight.data = w_torch\n",
    "bn_torch.bias.data = b_torch\n",
    "# y = (bn_torch(x_torch) ** 2).sum()\n",
    "y = bn_torch(x_torch)\n",
    "y"
   ]
  },
  {
   "cell_type": "code",
   "execution_count": 214,
   "id": "3aab5e7d-51fd-4b91-98d6-d7bda664a415",
   "metadata": {},
   "outputs": [],
   "source": [
    "y.backward()"
   ]
  },
  {
   "cell_type": "code",
   "execution_count": 207,
   "id": "168a751e-627f-4053-a26a-736e83097b2e",
   "metadata": {},
   "outputs": [
    {
     "data": {
      "text/plain": [
       "tensor([0.3250, 0.3390, 0.2110, 0.2670])"
      ]
     },
     "execution_count": 207,
     "metadata": {},
     "output_type": "execute_result"
    }
   ],
   "source": [
    "bn_torch.running_mean"
   ]
  },
  {
   "cell_type": "code",
   "execution_count": 208,
   "id": "e69cd1d9-b812-46a1-bb6b-1113162ff1f7",
   "metadata": {},
   "outputs": [
    {
     "data": {
      "text/plain": [
       "tensor([0.9191, 1.1664, 1.0383, 1.1388])"
      ]
     },
     "execution_count": 208,
     "metadata": {},
     "output_type": "execute_result"
    }
   ],
   "source": [
    "bn_torch.running_var"
   ]
  },
  {
   "cell_type": "code",
   "execution_count": 215,
   "id": "907d8616-d5cb-4b73-9f81-6ecf31614eec",
   "metadata": {},
   "outputs": [
    {
     "data": {
      "text/plain": [
       "tensor([[ 3.8338e-03,  4.1888e-05, -1.4280e-04, -3.5575e-05],\n",
       "        [-6.9319e-03, -3.1649e-05,  9.1799e-05, -8.7278e-05],\n",
       "        [ 4.6576e-03, -8.9362e-05, -4.5389e-05,  4.2690e-05],\n",
       "        [-7.7194e-03,  2.9322e-05,  6.7319e-05,  7.8740e-05],\n",
       "        [ 6.1755e-03,  5.0266e-05,  2.6265e-05, -6.3739e-07]])"
      ]
     },
     "execution_count": 215,
     "metadata": {},
     "output_type": "execute_result"
    }
   ],
   "source": [
    "x_torch.grad"
   ]
  },
  {
   "cell_type": "markdown",
   "id": "c4860b1c-60bd-4e88-a278-6ac8883f0918",
   "metadata": {
    "jp-MarkdownHeadingCollapsed": true,
    "tags": []
   },
   "source": [
    "# LayerNorm"
   ]
  },
  {
   "cell_type": "code",
   "execution_count": 48,
   "id": "4f4b151d-9b5e-49f1-acf7-760eb0b0fd22",
   "metadata": {},
   "outputs": [
    {
     "data": {
      "text/plain": [
       "(needle.Tensor([[ 0.58616877  1.242678   -1.3833588  -0.4454885 ]\n",
       "  [ 0.5073314   0.21035685  0.95279324 -1.670482  ]\n",
       "  [ 0.92134947 -1.2319168  -0.7350092   1.0455765 ]\n",
       "  [-1.1089483   0.7175546  -0.84801936  1.2394128 ]\n",
       "  [ 0.28115013  1.5128565  -1.0041085  -0.78989875]]),\n",
       " needle.Tensor([[ 1.1920929e-07  2.3841858e-07 -2.9802322e-07 -1.1920929e-07]\n",
       "  [ 1.7881393e-07  5.9604645e-08  3.5762787e-07 -5.9604645e-07]\n",
       "  [ 0.0000000e+00  0.0000000e+00  0.0000000e+00  0.0000000e+00]\n",
       "  [-3.5762787e-07  2.3841858e-07 -3.5762787e-07  4.7683716e-07]\n",
       "  [ 2.3841858e-07  8.3446503e-07 -3.5762787e-07 -2.3841858e-07]]))"
      ]
     },
     "execution_count": 48,
     "metadata": {},
     "output_type": "execute_result"
    }
   ],
   "source": [
    "x = get_tensor(5, 4)\n",
    "layernorm = ndl.nn.LayerNorm1d(4)\n",
    "y_ndl = layernorm(x)\n",
    "y_ndl.backward()\n",
    "y_ndl, x.grad"
   ]
  },
  {
   "cell_type": "code",
   "execution_count": 78,
   "id": "bc122e80-af6a-4730-b67a-b1a2e1967962",
   "metadata": {},
   "outputs": [
    {
     "data": {
      "text/plain": [
       "(tensor([[-0.7759, -0.5554,  0.6718,  0.7381,  1.4245, -1.3414,  1.7393, -0.5451,\n",
       "          -0.7727, -0.5832]], grad_fn=<NativeLayerNormBackward0>),\n",
       " tensor([[0., 0., 0., 0., 0., 0., 0., 0., 0., 0.]]))"
      ]
     },
     "execution_count": 78,
     "metadata": {},
     "output_type": "execute_result"
    }
   ],
   "source": [
    "x_torch = torch.tensor(x.detach().numpy(), requires_grad=True)\n",
    "layernorm_torch = nn.LayerNorm(x_torch.shape[1])\n",
    "y = layernorm_torch(x_torch)\n",
    "y.backward(torch.ones_like(y))\n",
    "y, x_torch.grad"
   ]
  },
  {
   "cell_type": "code",
   "execution_count": 79,
   "id": "35b94bb3-e950-4037-b834-e9908a03ced2",
   "metadata": {},
   "outputs": [
    {
     "data": {
      "text/plain": [
       "Parameter containing:\n",
       "tensor([1., 1., 1., 1., 1., 1., 1., 1., 1., 1.], requires_grad=True)"
      ]
     },
     "execution_count": 79,
     "metadata": {},
     "output_type": "execute_result"
    }
   ],
   "source": [
    "layernorm_torch.weight"
   ]
  },
  {
   "cell_type": "code",
   "execution_count": 54,
   "id": "8c4f17cb-e474-4647-896b-5644fecbd914",
   "metadata": {},
   "outputs": [
    {
     "data": {
      "text/plain": [
       "True"
      ]
     },
     "execution_count": 54,
     "metadata": {},
     "output_type": "execute_result"
    }
   ],
   "source": [
    "np.allclose(layernorm_torch.weight.data, layernorm.weight.cached_data)"
   ]
  },
  {
   "cell_type": "code",
   "execution_count": 55,
   "id": "942dccab-e7f7-4c09-9e30-cc13af2fe94d",
   "metadata": {},
   "outputs": [
    {
     "data": {
      "text/plain": [
       "True"
      ]
     },
     "execution_count": 55,
     "metadata": {},
     "output_type": "execute_result"
    }
   ],
   "source": [
    "np.allclose(layernorm_torch.bias.data, layernorm.bias.cached_data)"
   ]
  },
  {
   "cell_type": "code",
   "execution_count": 60,
   "id": "53897d65-7957-468b-895b-29044b05f2bc",
   "metadata": {},
   "outputs": [
    {
     "data": {
      "text/plain": [
       "(needle.Tensor([[0.]\n",
       "  [0.]\n",
       "  [0.]\n",
       "  [0.]]),\n",
       " needle.Tensor([[0.]\n",
       "  [0.]\n",
       "  [0.]\n",
       "  [0.]]))"
      ]
     },
     "execution_count": 60,
     "metadata": {},
     "output_type": "execute_result"
    }
   ],
   "source": [
    "x = get_tensor(4, 1)\n",
    "layernorm = ndl.nn.LayerNorm1d(1)\n",
    "y_ndl = layernorm(x)\n",
    "y_ndl.backward()\n",
    "y_ndl, x.grad"
   ]
  },
  {
   "cell_type": "code",
   "execution_count": 61,
   "id": "68d8b359-6f2c-4dc6-a4a7-34c7fdbe5971",
   "metadata": {},
   "outputs": [
    {
     "data": {
      "text/plain": [
       "(tensor([[0.],\n",
       "         [0.],\n",
       "         [0.],\n",
       "         [0.]], grad_fn=<NativeLayerNormBackward0>),\n",
       " tensor([[0.],\n",
       "         [0.],\n",
       "         [0.],\n",
       "         [0.]]))"
      ]
     },
     "execution_count": 61,
     "metadata": {},
     "output_type": "execute_result"
    }
   ],
   "source": [
    "x_torch = torch.tensor(x.detach().numpy(), requires_grad=True)\n",
    "layernorm_torch = nn.LayerNorm(x_torch.shape[1])\n",
    "y = layernorm_torch(x_torch)\n",
    "y.backward(torch.ones_like(y))\n",
    "y, x_torch.grad"
   ]
  },
  {
   "cell_type": "code",
   "execution_count": 54,
   "id": "52330a55-26a3-4f2e-8605-0d034cfa4559",
   "metadata": {},
   "outputs": [
    {
     "data": {
      "text/plain": [
       "True"
      ]
     },
     "execution_count": 54,
     "metadata": {},
     "output_type": "execute_result"
    }
   ],
   "source": [
    "np.allclose(layernorm_torch.weight.data, layernorm.weight.cached_data)"
   ]
  },
  {
   "cell_type": "code",
   "execution_count": 55,
   "id": "00a0f7cc-3374-4f9e-85c2-945ac7d4d7a9",
   "metadata": {},
   "outputs": [
    {
     "data": {
      "text/plain": [
       "True"
      ]
     },
     "execution_count": 55,
     "metadata": {},
     "output_type": "execute_result"
    }
   ],
   "source": [
    "np.allclose(layernorm_torch.bias.data, layernorm.bias.cached_data)"
   ]
  },
  {
   "cell_type": "markdown",
   "id": "fa1ec1fb-f547-4b6a-b5f5-e32c7198748e",
   "metadata": {
    "tags": []
   },
   "source": [
    "# Broadcast/Reshape/Summation"
   ]
  },
  {
   "cell_type": "markdown",
   "id": "c23a0227-c629-4c62-a99d-19d5a535a01a",
   "metadata": {},
   "source": [
    "## PowerScalar"
   ]
  },
  {
   "cell_type": "code",
   "execution_count": 17,
   "id": "a21a98ff-ee55-4003-85dd-a1fbf633f783",
   "metadata": {},
   "outputs": [
    {
     "data": {
      "text/plain": [
       "True"
      ]
     },
     "execution_count": 17,
     "metadata": {},
     "output_type": "execute_result"
    }
   ],
   "source": [
    "x = torch.rand(1, 10, requires_grad=True)\n",
    "y = x**0.5\n",
    "y.backward(torch.ones_like(y))\n",
    "\n",
    "x_ndl = Tensor(x.detach().numpy())\n",
    "y_ndl = x_ndl**0.5\n",
    "y_ndl.backward()\n",
    "\n",
    "np.allclose(x.grad.data, x_ndl.grad.cached_data)"
   ]
  },
  {
   "cell_type": "code",
   "execution_count": 18,
   "id": "f07df7be-82e3-4ba6-b54f-485c259f0b1e",
   "metadata": {},
   "outputs": [
    {
     "data": {
      "text/plain": [
       "True"
      ]
     },
     "execution_count": 18,
     "metadata": {},
     "output_type": "execute_result"
    }
   ],
   "source": [
    "x = torch.rand(1, 10, requires_grad=True)\n",
    "y = x**2\n",
    "y.backward(torch.ones_like(y))\n",
    "\n",
    "x_ndl = Tensor(x.detach().numpy())\n",
    "y_ndl = x_ndl**2\n",
    "y_ndl.backward()\n",
    "\n",
    "np.allclose(x.grad.data, x_ndl.grad.cached_data)"
   ]
  },
  {
   "cell_type": "markdown",
   "id": "701cdfa0-319e-4f26-8a7e-0dcadcd48e53",
   "metadata": {
    "tags": []
   },
   "source": [
    "## Broadcast"
   ]
  },
  {
   "cell_type": "code",
   "execution_count": 19,
   "id": "fb8067a9-d282-4ee4-9e5c-b2b0e9a1ceef",
   "metadata": {},
   "outputs": [
    {
     "data": {
      "text/plain": [
       "True"
      ]
     },
     "execution_count": 19,
     "metadata": {},
     "output_type": "execute_result"
    }
   ],
   "source": [
    "x = torch.rand(1, 10, requires_grad=True)\n",
    "y = x.broadcast_to(5, 10)\n",
    "y.backward(torch.ones_like(y))\n",
    "\n",
    "x_ndl = Tensor(x.detach().numpy())\n",
    "y_ndl = ndl.ops.broadcast_to(x_ndl, (5, 10))\n",
    "y_ndl.backward()\n",
    "\n",
    "np.allclose(x.grad.data, x_ndl.grad.cached_data)"
   ]
  },
  {
   "cell_type": "code",
   "execution_count": 20,
   "id": "882ad53b-28c7-41fd-83a4-e6fc81f95f6c",
   "metadata": {},
   "outputs": [
    {
     "data": {
      "text/plain": [
       "True"
      ]
     },
     "execution_count": 20,
     "metadata": {},
     "output_type": "execute_result"
    }
   ],
   "source": [
    "x = torch.rand(1, 10, 1, requires_grad=True)\n",
    "y = x.broadcast_to(5, 10, 20)\n",
    "y.backward(torch.ones_like(y))\n",
    "\n",
    "x_ndl = Tensor(x.detach().numpy())\n",
    "y_ndl = ndl.ops.broadcast_to(x_ndl, (5, 10, 20))\n",
    "y_ndl.backward()\n",
    "\n",
    "np.allclose(x.grad.data, x_ndl.grad.cached_data)"
   ]
  },
  {
   "cell_type": "code",
   "execution_count": 21,
   "id": "8cbe61dc-96df-4157-9c9b-2f0a58d1c1e2",
   "metadata": {},
   "outputs": [
    {
     "data": {
      "text/plain": [
       "True"
      ]
     },
     "execution_count": 21,
     "metadata": {},
     "output_type": "execute_result"
    }
   ],
   "source": [
    "x = torch.rand(1, 10, 1, requires_grad=True)\n",
    "y = x.broadcast_to(1, 10, 20)\n",
    "y.backward(torch.ones_like(y))\n",
    "\n",
    "x_ndl = Tensor(x.detach().numpy())\n",
    "y_ndl = ndl.ops.broadcast_to(x_ndl, (1, 10, 20))\n",
    "y_ndl.backward()\n",
    "\n",
    "np.allclose(x.grad.data, x_ndl.grad.cached_data)"
   ]
  },
  {
   "cell_type": "markdown",
   "id": "e061ed88-c056-4353-bc3f-5933e67487fd",
   "metadata": {},
   "source": [
    "## Reshape"
   ]
  },
  {
   "cell_type": "code",
   "execution_count": 22,
   "id": "5af2f79c-03c5-4f30-8705-5b7ea332c6ce",
   "metadata": {},
   "outputs": [
    {
     "data": {
      "text/plain": [
       "True"
      ]
     },
     "execution_count": 22,
     "metadata": {},
     "output_type": "execute_result"
    }
   ],
   "source": [
    "x = torch.rand(10, requires_grad=True)\n",
    "y = x.reshape(1, 10)\n",
    "y.backward(torch.ones_like(y))\n",
    "\n",
    "x_ndl = Tensor(x.detach().numpy())\n",
    "y_ndl = ndl.ops.reshape(x_ndl, (1, 10))\n",
    "y_ndl.backward()\n",
    "\n",
    "np.allclose(x.grad.data, x_ndl.grad.cached_data)"
   ]
  },
  {
   "cell_type": "code",
   "execution_count": 23,
   "id": "8e38857c-1989-42b9-8c01-e13cd67da2bb",
   "metadata": {},
   "outputs": [
    {
     "data": {
      "text/plain": [
       "True"
      ]
     },
     "execution_count": 23,
     "metadata": {},
     "output_type": "execute_result"
    }
   ],
   "source": [
    "x = torch.rand(10, requires_grad=True)\n",
    "y = x.reshape(1, 1, 10)\n",
    "y.backward(torch.ones_like(y))\n",
    "\n",
    "x_ndl = Tensor(x.detach().numpy())\n",
    "y_ndl = ndl.ops.reshape(x_ndl, (1, 1, 10))\n",
    "y_ndl.backward()\n",
    "\n",
    "np.allclose(x.grad.data, x_ndl.grad.cached_data)"
   ]
  },
  {
   "cell_type": "code",
   "execution_count": 24,
   "id": "b69f8d29-01c8-4a4d-8e42-61d9dea3b664",
   "metadata": {},
   "outputs": [
    {
     "data": {
      "text/plain": [
       "True"
      ]
     },
     "execution_count": 24,
     "metadata": {},
     "output_type": "execute_result"
    }
   ],
   "source": [
    "x = torch.rand(10, requires_grad=True)\n",
    "y = x.reshape(1, 10, 1)\n",
    "y.backward(torch.ones_like(y))\n",
    "\n",
    "x_ndl = Tensor(x.detach().numpy())\n",
    "y_ndl = ndl.ops.reshape(x_ndl, (1, 10, 1))\n",
    "y_ndl.backward()\n",
    "\n",
    "np.allclose(x.grad.data, x_ndl.grad.cached_data)"
   ]
  },
  {
   "cell_type": "markdown",
   "id": "e32cb6c3-97a1-4e1f-b1ab-905d00e8ce6f",
   "metadata": {},
   "source": [
    "## Broadcast & Reshape"
   ]
  },
  {
   "cell_type": "code",
   "execution_count": 25,
   "id": "75e88a8e-45a6-4cf8-b19d-2c7946d9a1b9",
   "metadata": {},
   "outputs": [
    {
     "data": {
      "text/plain": [
       "True"
      ]
     },
     "execution_count": 25,
     "metadata": {},
     "output_type": "execute_result"
    }
   ],
   "source": [
    "x = torch.rand(10, requires_grad=True)\n",
    "y = torch.broadcast_to(torch.reshape(x, (1, 10)), (5, 10))\n",
    "y.backward(torch.ones_like(y))\n",
    "\n",
    "x_ndl = Tensor(x.detach().numpy())\n",
    "y_ndl = ndl.ops.broadcast_to(ndl.ops.reshape(x_ndl, (1, 10)), (5, 10))\n",
    "y_ndl.backward()\n",
    "\n",
    "np.allclose(x.grad.data, x_ndl.grad.cached_data)"
   ]
  },
  {
   "cell_type": "code",
   "execution_count": 26,
   "id": "2ad1f6e6-f031-4f2b-b67f-7d6c184251af",
   "metadata": {},
   "outputs": [
    {
     "data": {
      "text/plain": [
       "True"
      ]
     },
     "execution_count": 26,
     "metadata": {},
     "output_type": "execute_result"
    }
   ],
   "source": [
    "x = torch.rand(10, requires_grad=True)\n",
    "y = torch.broadcast_to(torch.reshape(x, (1, 10, 1)), (1, 10, 20))\n",
    "y.backward(torch.ones_like(y))\n",
    "\n",
    "x_ndl = Tensor(x.detach().numpy())\n",
    "y_ndl = ndl.ops.broadcast_to(ndl.ops.reshape(x_ndl, (1, 10, 1)), (1, 10, 20))\n",
    "y_ndl.backward()\n",
    "\n",
    "np.allclose(x.grad.data, x_ndl.grad.cached_data)"
   ]
  },
  {
   "cell_type": "markdown",
   "id": "ee3c56c6-7b1e-489f-b421-47af0c6b25eb",
   "metadata": {},
   "source": [
    "## Summation"
   ]
  },
  {
   "cell_type": "code",
   "execution_count": 27,
   "id": "74157944-b5e9-4065-a8e4-b4ece9f90625",
   "metadata": {},
   "outputs": [
    {
     "data": {
      "text/plain": [
       "True"
      ]
     },
     "execution_count": 27,
     "metadata": {},
     "output_type": "execute_result"
    }
   ],
   "source": [
    "x = torch.rand(5, 10, requires_grad=True)\n",
    "y = x.sum(0)\n",
    "y.backward(torch.ones_like(y))\n",
    "\n",
    "x_ndl = Tensor(x.detach().numpy())\n",
    "y_ndl = ndl.ops.summation(x_ndl, 0)\n",
    "y_ndl.backward()\n",
    "\n",
    "np.allclose(x.grad.data, x_ndl.grad.cached_data)"
   ]
  },
  {
   "cell_type": "code",
   "execution_count": 28,
   "id": "e7fec013-995d-4299-baf7-73d69627a7b3",
   "metadata": {},
   "outputs": [
    {
     "data": {
      "text/plain": [
       "True"
      ]
     },
     "execution_count": 28,
     "metadata": {},
     "output_type": "execute_result"
    }
   ],
   "source": [
    "x = torch.rand(5, 10, requires_grad=True)\n",
    "y = x.sum(1)\n",
    "y.backward(torch.ones_like(y))\n",
    "\n",
    "x_ndl = Tensor(x.detach().numpy())\n",
    "y_ndl = ndl.ops.summation(x_ndl, 1)\n",
    "y_ndl.backward()\n",
    "\n",
    "np.allclose(x.grad.data, x_ndl.grad.cached_data)"
   ]
  },
  {
   "cell_type": "code",
   "execution_count": 29,
   "id": "74a88b20-d8fe-4e1c-ae44-db7fb36cccd6",
   "metadata": {},
   "outputs": [
    {
     "data": {
      "text/plain": [
       "True"
      ]
     },
     "execution_count": 29,
     "metadata": {},
     "output_type": "execute_result"
    }
   ],
   "source": [
    "x = torch.rand(5, 10, requires_grad=True)\n",
    "y = x.sum()\n",
    "y.backward(torch.ones_like(y))\n",
    "\n",
    "x_ndl = Tensor(x.detach().numpy())\n",
    "y_ndl = ndl.ops.summation(x_ndl)\n",
    "y_ndl.backward()\n",
    "\n",
    "np.allclose(x.grad.data, x_ndl.grad.cached_data)"
   ]
  },
  {
   "cell_type": "markdown",
   "id": "29f86bf7-6a2b-4ff6-bd73-386d297203e5",
   "metadata": {},
   "source": [
    "## ReLU"
   ]
  },
  {
   "cell_type": "code",
   "execution_count": 38,
   "id": "fe4c2acf-fbe4-4fd2-86b2-0a836efb1785",
   "metadata": {},
   "outputs": [
    {
     "data": {
      "text/plain": [
       "True"
      ]
     },
     "execution_count": 38,
     "metadata": {},
     "output_type": "execute_result"
    }
   ],
   "source": [
    "x = torch.randn(5, 10, requires_grad=True)\n",
    "y = nn.ReLU()(x)\n",
    "y.backward(torch.ones_like(y))\n",
    "\n",
    "x_ndl = Tensor(x.detach().numpy())\n",
    "y_ndl = ndl.ops.relu(x_ndl)\n",
    "y_ndl.backward()\n",
    "\n",
    "np.allclose(x.grad.data, x_ndl.grad.cached_data)"
   ]
  },
  {
   "cell_type": "code",
   "execution_count": 39,
   "id": "4f247265-8a3a-45d9-847f-61d094cfa6d1",
   "metadata": {},
   "outputs": [
    {
     "data": {
      "text/plain": [
       "tensor([[0., 0., 0., 1., 1., 0., 1., 0., 0., 1.],\n",
       "        [1., 1., 1., 1., 0., 1., 0., 0., 0., 1.],\n",
       "        [0., 0., 0., 0., 1., 0., 0., 1., 1., 1.],\n",
       "        [0., 1., 1., 1., 0., 0., 0., 0., 0., 0.],\n",
       "        [0., 1., 0., 1., 1., 0., 1., 1., 1., 1.]])"
      ]
     },
     "execution_count": 39,
     "metadata": {},
     "output_type": "execute_result"
    }
   ],
   "source": [
    "x.grad.data"
   ]
  },
  {
   "cell_type": "code",
   "execution_count": 40,
   "id": "e60f26b6-eaf6-4968-91e8-19f6d9635a00",
   "metadata": {},
   "outputs": [
    {
     "data": {
      "text/plain": [
       "array([[0., 0., 0., 1., 1., 0., 1., 0., 0., 1.],\n",
       "       [1., 1., 1., 1., 0., 1., 0., 0., 0., 1.],\n",
       "       [0., 0., 0., 0., 1., 0., 0., 1., 1., 1.],\n",
       "       [0., 1., 1., 1., 0., 0., 0., 0., 0., 0.],\n",
       "       [0., 1., 0., 1., 1., 0., 1., 1., 1., 1.]], dtype=float32)"
      ]
     },
     "execution_count": 40,
     "metadata": {},
     "output_type": "execute_result"
    }
   ],
   "source": [
    "x_ndl.grad.cached_data"
   ]
  },
  {
   "cell_type": "markdown",
   "id": "e7f41105-a4f2-47ec-8adb-00de449832b4",
   "metadata": {
    "jp-MarkdownHeadingCollapsed": true,
    "tags": []
   },
   "source": [
    "# Transformations/Data"
   ]
  },
  {
   "cell_type": "code",
   "execution_count": 33,
   "id": "d150db50-63f0-41bd-a7a0-0fd18407ea3f",
   "metadata": {},
   "outputs": [
    {
     "data": {
      "text/plain": [
       "array([[0.5565526 , 0.44532466, 0.8625604 , 0.11051959, 0.7719575 ,\n",
       "        0.45706648, 0.79216236, 0.9238836 , 0.5096416 , 0.8624742 ]],\n",
       "      dtype=float32)"
      ]
     },
     "execution_count": 33,
     "metadata": {},
     "output_type": "execute_result"
    }
   ],
   "source": [
    "x_np = x.detach().numpy()\n",
    "x_np"
   ]
  },
  {
   "cell_type": "code",
   "execution_count": 34,
   "id": "88830c1e-ce9f-48d5-b403-83d1cbf20108",
   "metadata": {},
   "outputs": [
    {
     "data": {
      "text/plain": [
       "array([[0.8624742 , 0.5096416 , 0.9238836 , 0.79216236, 0.45706648,\n",
       "        0.7719575 , 0.11051959, 0.8625604 , 0.44532466, 0.5565526 ]],\n",
       "      dtype=float32)"
      ]
     },
     "execution_count": 34,
     "metadata": {},
     "output_type": "execute_result"
    }
   ],
   "source": [
    "np.flip(x_np)"
   ]
  },
  {
   "cell_type": "code",
   "execution_count": 38,
   "id": "a94c0f4f-d9fe-4e04-8eb5-eec99fc0dc64",
   "metadata": {},
   "outputs": [],
   "source": [
    "a = torch.tensor([[[0.3994989103160902, 0.30183087592751656], [0.7752197774666111, 0.9262129301763149], [0.3253103051589964, 0.9528706723868426]], [[0.013948395933415347, 0.5334656817509289], [0.3045820306759077, 0.882859998043791], [0.25062272019388543, 0.6774118294719442]], [[0.8104240912598908, 0.4321480499248166], [0.7521345209879338, 0.8296022479277191], [0.37903377210381817, 0.09654960982745808]], [[0.25613957741471227, 0.5919351581884497], [0.47647720054983067, 0.4879345689871769], [0.4585145522366506, 0.5245926207548479]]])\n",
    "b = torch.tensor([[[0.3253103051589964, 0.9528706723868426], [0.7752197774666111, 0.9262129301763149], [0.3994989103160902, 0.30183087592751656]], [[0.25062272019388543, 0.6774118294719442], [0.3045820306759077, 0.882859998043791], [0.013948395933415347, 0.5334656817509289]], [[0.37903377210381817, 0.09654960982745808], [0.7521345209879338, 0.8296022479277191], [0.8104240912598908, 0.4321480499248166]], [[0.4585145522366506, 0.5245926207548479], [0.47647720054983067, 0.4879345689871769], [0.25613957741471227, 0.5919351581884497]]])\n",
    "# np.testing.assert_allclose(tform(a), b)"
   ]
  },
  {
   "cell_type": "code",
   "execution_count": 43,
   "id": "65b4e587-fca8-4274-9bfb-acc9d6aae48c",
   "metadata": {},
   "outputs": [
    {
     "data": {
      "text/plain": [
       "tensor([[[0.3995, 0.3018],\n",
       "         [0.7752, 0.9262],\n",
       "         [0.3253, 0.9529]],\n",
       "\n",
       "        [[0.0139, 0.5335],\n",
       "         [0.3046, 0.8829],\n",
       "         [0.2506, 0.6774]],\n",
       "\n",
       "        [[0.8104, 0.4321],\n",
       "         [0.7521, 0.8296],\n",
       "         [0.3790, 0.0965]],\n",
       "\n",
       "        [[0.2561, 0.5919],\n",
       "         [0.4765, 0.4879],\n",
       "         [0.4585, 0.5246]]])"
      ]
     },
     "execution_count": 43,
     "metadata": {},
     "output_type": "execute_result"
    }
   ],
   "source": [
    "a"
   ]
  },
  {
   "cell_type": "code",
   "execution_count": 44,
   "id": "79dceeb0-ba04-4a2d-84ae-36485b54d3f0",
   "metadata": {},
   "outputs": [
    {
     "data": {
      "text/plain": [
       "tensor([[[0.3253, 0.9529],\n",
       "         [0.7752, 0.9262],\n",
       "         [0.3995, 0.3018]],\n",
       "\n",
       "        [[0.2506, 0.6774],\n",
       "         [0.3046, 0.8829],\n",
       "         [0.0139, 0.5335]],\n",
       "\n",
       "        [[0.3790, 0.0965],\n",
       "         [0.7521, 0.8296],\n",
       "         [0.8104, 0.4321]],\n",
       "\n",
       "        [[0.4585, 0.5246],\n",
       "         [0.4765, 0.4879],\n",
       "         [0.2561, 0.5919]]])"
      ]
     },
     "execution_count": 44,
     "metadata": {},
     "output_type": "execute_result"
    }
   ],
   "source": [
    "b"
   ]
  },
  {
   "cell_type": "code",
   "execution_count": 64,
   "id": "ff8f87e0-a51a-4cad-b7b4-cb6900300261",
   "metadata": {},
   "outputs": [
    {
     "data": {
      "text/plain": [
       "array([[[0.3994989 , 0.7752198 , 0.32531032],\n",
       "        [0.0139484 , 0.30458203, 0.25062272],\n",
       "        [0.8104241 , 0.7521345 , 0.37903377],\n",
       "        [0.25613958, 0.4764772 , 0.45851454]],\n",
       "\n",
       "       [[0.3018309 , 0.9262129 , 0.95287067],\n",
       "        [0.5334657 , 0.88286   , 0.67741185],\n",
       "        [0.43214804, 0.82960224, 0.09654961],\n",
       "        [0.59193516, 0.48793456, 0.52459264]]], dtype=float32)"
      ]
     },
     "execution_count": 64,
     "metadata": {},
     "output_type": "execute_result"
    }
   ],
   "source": [
    "a.detach().numpy().transpose((2, 0, 1))"
   ]
  },
  {
   "cell_type": "code",
   "execution_count": 66,
   "id": "b92d5fcb-0ff7-4e88-adcf-48f265ea6e0e",
   "metadata": {},
   "outputs": [
    {
     "data": {
      "text/plain": [
       "tensor([[[0.3995, 0.7752, 0.3253],\n",
       "         [0.0139, 0.3046, 0.2506],\n",
       "         [0.8104, 0.7521, 0.3790],\n",
       "         [0.2561, 0.4765, 0.4585]],\n",
       "\n",
       "        [[0.3018, 0.9262, 0.9529],\n",
       "         [0.5335, 0.8829, 0.6774],\n",
       "         [0.4321, 0.8296, 0.0965],\n",
       "         [0.5919, 0.4879, 0.5246]]])"
      ]
     },
     "execution_count": 66,
     "metadata": {},
     "output_type": "execute_result"
    }
   ],
   "source": [
    "RandomHorizontalFlip()(torch.tensor(a.detach().numpy().transpose((2, 0, 1))))"
   ]
  },
  {
   "cell_type": "code",
   "execution_count": 67,
   "id": "61ca7292-e30d-4294-983c-7ade172af7bb",
   "metadata": {},
   "outputs": [
    {
     "data": {
      "text/plain": [
       "tensor([[[0.3995, 0.3018],\n",
       "         [0.7752, 0.9262],\n",
       "         [0.3253, 0.9529]],\n",
       "\n",
       "        [[0.0139, 0.5335],\n",
       "         [0.3046, 0.8829],\n",
       "         [0.2506, 0.6774]],\n",
       "\n",
       "        [[0.8104, 0.4321],\n",
       "         [0.7521, 0.8296],\n",
       "         [0.3790, 0.0965]],\n",
       "\n",
       "        [[0.2561, 0.5919],\n",
       "         [0.4765, 0.4879],\n",
       "         [0.4585, 0.5246]]])"
      ]
     },
     "execution_count": 67,
     "metadata": {},
     "output_type": "execute_result"
    }
   ],
   "source": [
    "a"
   ]
  },
  {
   "cell_type": "code",
   "execution_count": 73,
   "id": "7dfdb7ee-4c86-46bd-87e1-2762640aaa50",
   "metadata": {},
   "outputs": [
    {
     "data": {
      "text/plain": [
       "array([[[0.32531032, 0.95287067],\n",
       "        [0.7752198 , 0.9262129 ],\n",
       "        [0.3994989 , 0.3018309 ]],\n",
       "\n",
       "       [[0.25062272, 0.67741185],\n",
       "        [0.30458203, 0.88286   ],\n",
       "        [0.0139484 , 0.5334657 ]],\n",
       "\n",
       "       [[0.37903377, 0.09654961],\n",
       "        [0.7521345 , 0.82960224],\n",
       "        [0.8104241 , 0.43214804]],\n",
       "\n",
       "       [[0.45851454, 0.52459264],\n",
       "        [0.4764772 , 0.48793456],\n",
       "        [0.25613958, 0.59193516]]], dtype=float32)"
      ]
     },
     "execution_count": 73,
     "metadata": {},
     "output_type": "execute_result"
    }
   ],
   "source": [
    "np.flip(a.detach().numpy(), 1)"
   ]
  },
  {
   "cell_type": "code",
   "execution_count": 37,
   "id": "3450909a-052c-4c9d-9b15-f44daef098d4",
   "metadata": {},
   "outputs": [
    {
     "data": {
      "text/plain": [
       "tensor([[[0.3253, 0.9529],\n",
       "         [0.7752, 0.9262],\n",
       "         [0.3995, 0.3018]],\n",
       "\n",
       "        [[0.2506, 0.6774],\n",
       "         [0.3046, 0.8829],\n",
       "         [0.0139, 0.5335]],\n",
       "\n",
       "        [[0.3790, 0.0965],\n",
       "         [0.7521, 0.8296],\n",
       "         [0.8104, 0.4321]],\n",
       "\n",
       "        [[0.4585, 0.5246],\n",
       "         [0.4765, 0.4879],\n",
       "         [0.2561, 0.5919]]])"
      ]
     },
     "execution_count": 37,
     "metadata": {},
     "output_type": "execute_result"
    }
   ],
   "source": [
    "b"
   ]
  },
  {
   "cell_type": "code",
   "execution_count": 55,
   "id": "ebf333d3-f114-46d1-801b-f58ff8bf780c",
   "metadata": {},
   "outputs": [
    {
     "data": {
      "text/plain": [
       "array([[[0, 1],\n",
       "        [2, 3]],\n",
       "\n",
       "       [[4, 5],\n",
       "        [6, 7]]])"
      ]
     },
     "execution_count": 55,
     "metadata": {},
     "output_type": "execute_result"
    }
   ],
   "source": [
    "A = np.arange(8).reshape((2,2,2))\n",
    "A"
   ]
  },
  {
   "cell_type": "code",
   "execution_count": 56,
   "id": "aa07f629-652e-490e-93af-4b684d3e1520",
   "metadata": {},
   "outputs": [
    {
     "data": {
      "text/plain": [
       "array([[[1, 0],\n",
       "        [3, 2]],\n",
       "\n",
       "       [[5, 4],\n",
       "        [7, 6]]])"
      ]
     },
     "execution_count": 56,
     "metadata": {},
     "output_type": "execute_result"
    }
   ],
   "source": [
    "np.flip(A, -1)"
   ]
  },
  {
   "cell_type": "code",
   "execution_count": 133,
   "id": "455c8428-50c8-4dde-b76f-ea5f8d23cf18",
   "metadata": {},
   "outputs": [
    {
     "data": {
      "text/plain": [
       "(10, 9, 2)"
      ]
     },
     "execution_count": 133,
     "metadata": {},
     "output_type": "execute_result"
    }
   ],
   "source": [
    "h, w, c = a.shape\n",
    "pad = np.pad(a.detach().numpy(), pad_width=((3, 3), (3, 3), (0, 0)))\n",
    "pad.shape"
   ]
  },
  {
   "cell_type": "code",
   "execution_count": 134,
   "id": "1df321bd-1036-4425-aa0c-59c841c11df0",
   "metadata": {},
   "outputs": [
    {
     "data": {
      "text/plain": [
       "(4, 3, 2)"
      ]
     },
     "execution_count": 134,
     "metadata": {},
     "output_type": "execute_result"
    }
   ],
   "source": [
    "h, w, c"
   ]
  },
  {
   "cell_type": "code",
   "execution_count": 135,
   "id": "4911d835-5463-433a-84ea-d8d1ad205c62",
   "metadata": {},
   "outputs": [
    {
     "data": {
      "text/plain": [
       "(0, -2)"
      ]
     },
     "execution_count": 135,
     "metadata": {},
     "output_type": "execute_result"
    }
   ],
   "source": [
    "shift_x, shift_y = np.random.randint(low=-3, high=3 + 1, size=2)\n",
    "shift_x, shift_y"
   ]
  },
  {
   "cell_type": "code",
   "execution_count": 136,
   "id": "4c437a86-345c-4811-b4a1-eead691d3b64",
   "metadata": {},
   "outputs": [
    {
     "data": {
      "text/plain": [
       "(3, 1)"
      ]
     },
     "execution_count": 136,
     "metadata": {},
     "output_type": "execute_result"
    }
   ],
   "source": [
    "top_left = 3 + shift_x\n",
    "bottom_left = 3 + shift_y\n",
    "top_left, bottom_left"
   ]
  },
  {
   "cell_type": "code",
   "execution_count": 137,
   "id": "3e590d1c-a0e1-4e8d-81f0-4ffe0d529024",
   "metadata": {},
   "outputs": [
    {
     "data": {
      "text/plain": [
       "(4, 3, 2)"
      ]
     },
     "execution_count": 137,
     "metadata": {},
     "output_type": "execute_result"
    }
   ],
   "source": [
    "pad[top_left : top_left + h, bottom_left : bottom_left + w, :].shape"
   ]
  },
  {
   "cell_type": "code",
   "execution_count": 138,
   "id": "8e074c75-83d0-4076-adc8-7a969034f17d",
   "metadata": {},
   "outputs": [
    {
     "data": {
      "text/plain": [
       "array([[[0.        , 0.        ],\n",
       "        [0.        , 0.        ],\n",
       "        [0.3994989 , 0.3018309 ]],\n",
       "\n",
       "       [[0.        , 0.        ],\n",
       "        [0.        , 0.        ],\n",
       "        [0.0139484 , 0.5334657 ]],\n",
       "\n",
       "       [[0.        , 0.        ],\n",
       "        [0.        , 0.        ],\n",
       "        [0.8104241 , 0.43214804]],\n",
       "\n",
       "       [[0.        , 0.        ],\n",
       "        [0.        , 0.        ],\n",
       "        [0.25613958, 0.59193516]]], dtype=float32)"
      ]
     },
     "execution_count": 138,
     "metadata": {},
     "output_type": "execute_result"
    }
   ],
   "source": [
    "pad[top_left : top_left + h, bottom_left : bottom_left + w, :]"
   ]
  },
  {
   "cell_type": "code",
   "execution_count": 130,
   "id": "69d83dd3-8649-4378-90af-680903d83d56",
   "metadata": {},
   "outputs": [
    {
     "data": {
      "text/plain": [
       "(5, 5, 3)"
      ]
     },
     "execution_count": 130,
     "metadata": {},
     "output_type": "execute_result"
    }
   ],
   "source": [
    "x = np.ones((3, 3, 3))\n",
    "y = np.pad(x, ((1, 1), (1, 1), (0, 0)))\n",
    "y.shape"
   ]
  },
  {
   "cell_type": "code",
   "execution_count": 141,
   "id": "092c39f0-068b-4124-8a83-577c8eb1c24d",
   "metadata": {},
   "outputs": [
    {
     "data": {
      "text/plain": [
       "'/Users/imad/Documents/dl-systems'"
      ]
     },
     "execution_count": 141,
     "metadata": {},
     "output_type": "execute_result"
    }
   ],
   "source": [
    "pwd"
   ]
  },
  {
   "cell_type": "code",
   "execution_count": 143,
   "id": "e2166a19-b397-4334-b194-ea8b234e1e62",
   "metadata": {},
   "outputs": [],
   "source": [
    "mnist_train_dataset = ndl.data.MNISTDataset(\n",
    "    \"hw2/data/train-images-idx3-ubyte.gz\", \"hw2/data/train-labels-idx1-ubyte.gz\"\n",
    ")"
   ]
  },
  {
   "cell_type": "code",
   "execution_count": 151,
   "id": "d178b7c5-92e3-4e07-842b-16b229c7bb89",
   "metadata": {},
   "outputs": [
    {
     "name": "stdout",
     "output_type": "stream",
     "text": [
      "69\n"
     ]
    },
    {
     "data": {
      "text/plain": [
       "2"
      ]
     },
     "execution_count": 151,
     "metadata": {},
     "output_type": "execute_result"
    }
   ],
   "source": [
    "len(mnist_train_dataset[69][:25])"
   ]
  },
  {
   "cell_type": "code",
   "execution_count": 169,
   "id": "bae3b27c-c2d3-4e01-9803-840ab0d092ad",
   "metadata": {},
   "outputs": [
    {
     "name": "stdout",
     "output_type": "stream",
     "text": [
      "822\n"
     ]
    }
   ],
   "source": [
    "d = mnist_train_dataset[822]"
   ]
  },
  {
   "cell_type": "code",
   "execution_count": 170,
   "id": "07b0f4a1-0abd-4e44-a58d-9a147fe19923",
   "metadata": {},
   "outputs": [
    {
     "data": {
      "text/plain": [
       "()"
      ]
     },
     "execution_count": 170,
     "metadata": {},
     "output_type": "execute_result"
    }
   ],
   "source": [
    "d[:-25]"
   ]
  },
  {
   "cell_type": "code",
   "execution_count": 172,
   "id": "858f71d0-28eb-4377-8277-c3b3eff2b83e",
   "metadata": {},
   "outputs": [
    {
     "data": {
      "text/plain": [
       "[10, 20, 30, 40, 50, 60, 70, 80, 90]"
      ]
     },
     "execution_count": 172,
     "metadata": {},
     "output_type": "execute_result"
    }
   ],
   "source": [
    "list(range(10, 100, 10))"
   ]
  },
  {
   "cell_type": "code",
   "execution_count": 174,
   "id": "99533a32-a5b5-4baa-8a41-be9c01a4399d",
   "metadata": {},
   "outputs": [
    {
     "data": {
      "text/plain": [
       "9"
      ]
     },
     "execution_count": 174,
     "metadata": {},
     "output_type": "execute_result"
    }
   ],
   "source": []
  },
  {
   "cell_type": "code",
   "execution_count": 175,
   "id": "4bb99c56-1d1a-4662-9ced-75313f9439bb",
   "metadata": {},
   "outputs": [
    {
     "name": "stderr",
     "output_type": "stream",
     "text": [
      "[autoreload of needle.data failed: Traceback (most recent call last):\n",
      "  File \"/Users/imad/anaconda3/envs/dl/lib/python3.10/site-packages/IPython/extensions/autoreload.py\", line 257, in check\n",
      "    superreload(m, reload, self.old_objects)\n",
      "  File \"/Users/imad/anaconda3/envs/dl/lib/python3.10/site-packages/IPython/extensions/autoreload.py\", line 480, in superreload\n",
      "    update_generic(old_obj, new_obj)\n",
      "  File \"/Users/imad/anaconda3/envs/dl/lib/python3.10/site-packages/IPython/extensions/autoreload.py\", line 377, in update_generic\n",
      "    update(a, b)\n",
      "  File \"/Users/imad/anaconda3/envs/dl/lib/python3.10/site-packages/IPython/extensions/autoreload.py\", line 329, in update_class\n",
      "    if update_generic(old_obj, new_obj):\n",
      "  File \"/Users/imad/anaconda3/envs/dl/lib/python3.10/site-packages/IPython/extensions/autoreload.py\", line 377, in update_generic\n",
      "    update(a, b)\n",
      "  File \"/Users/imad/anaconda3/envs/dl/lib/python3.10/site-packages/IPython/extensions/autoreload.py\", line 289, in update_function\n",
      "    setattr(old, name, getattr(new, name))\n",
      "ValueError: __init__() requires a code object with 0 free vars, not 1\n",
      "]\n"
     ]
    },
    {
     "data": {
      "text/plain": [
       "[array([0, 1, 2, 3, 4, 5, 6, 7, 8, 9]),\n",
       " array([10, 11, 12, 13, 14, 15, 16, 17, 18, 19]),\n",
       " array([20, 21, 22, 23, 24, 25, 26, 27, 28, 29]),\n",
       " array([30, 31, 32, 33, 34, 35, 36, 37, 38, 39]),\n",
       " array([40, 41, 42, 43, 44, 45, 46, 47, 48, 49]),\n",
       " array([50, 51, 52, 53, 54, 55, 56, 57, 58, 59]),\n",
       " array([60, 61, 62, 63, 64, 65, 66, 67, 68, 69]),\n",
       " array([70, 71, 72, 73, 74, 75, 76, 77, 78, 79]),\n",
       " array([80, 81, 82, 83, 84, 85, 86, 87, 88, 89]),\n",
       " array([90, 91, 92, 93, 94, 95, 96, 97, 98, 99])]"
      ]
     },
     "execution_count": 175,
     "metadata": {},
     "output_type": "execute_result"
    }
   ],
   "source": [
    "np.array_split(np.arange(100), range(10, 100, 10))"
   ]
  },
  {
   "cell_type": "code",
   "execution_count": 178,
   "id": "8127b95e-4afa-44f4-a308-076ef18066f6",
   "metadata": {},
   "outputs": [
    {
     "data": {
      "text/plain": [
       "array([82,  5, 53, 69, 73, 74, 27, 31, 23,  0, 62, 98,  4,  3, 49, 32,  2,\n",
       "        1, 65, 63, 61, 64, 24, 56, 58, 40,  9, 45, 66, 71, 72, 78, 88, 93,\n",
       "       36, 81, 80, 57, 76, 52, 68, 28, 34, 42, 18, 16, 87, 90, 37, 39, 25,\n",
       "       60,  6, 12, 46, 11, 35, 79, 43, 48, 92, 15, 30, 99, 26, 97, 21, 17,\n",
       "        8, 70, 51, 59, 75, 50, 94, 89, 96, 84, 13, 86, 10, 22, 83, 20, 41,\n",
       "       77, 38, 33, 44, 54, 29, 91, 55, 14,  7, 19, 67, 95, 85, 47])"
      ]
     },
     "execution_count": 178,
     "metadata": {},
     "output_type": "execute_result"
    }
   ],
   "source": [
    "a = np.arange(100)\n",
    "np.random.shuffle(a)\n",
    "a"
   ]
  },
  {
   "cell_type": "markdown",
   "id": "3cee4be5-2e49-4f5d-80a5-1b8fda04c660",
   "metadata": {
    "tags": []
   },
   "source": [
    "# SGD"
   ]
  },
  {
   "cell_type": "code",
   "execution_count": null,
   "id": "e99e847a-e324-4964-96a6-07604a5d559d",
   "metadata": {},
   "outputs": [],
   "source": [
    "learn_model_1d(\n",
    "    64,\n",
    "    16,\n",
    "    lambda z: nn.Sequential(\n",
    "        nn.Linear(64, 32), nn.ReLU(), nn.Linear(32, 16)\n",
    "    ),\n",
    "    ndl.optim.SGD,\n",
    "    lr=0.01,\n",
    "    momentum=0.0,\n",
    ")\n",
    "np.array(3.207009)"
   ]
  },
  {
   "cell_type": "code",
   "execution_count": 388,
   "id": "c58bbe09-4a24-48ad-ac5f-978f9afb4983",
   "metadata": {},
   "outputs": [],
   "source": [
    "w = np.array([[1.0, 2.0, 3.0], [4.0, 5.0, 6.0], [7.0, 8.0, 9.0]], dtype=\"float64\")\n",
    "b = np.array([[1.0, 2.0, 3.0]], dtype=\"float64\")"
   ]
  },
  {
   "cell_type": "code",
   "execution_count": 389,
   "id": "95287855-0d00-4cf9-93b3-d91b3bb0a12c",
   "metadata": {},
   "outputs": [
    {
     "name": "stdout",
     "output_type": "stream",
     "text": [
      "[[1. 2. 3.]\n",
      " [4. 5. 6.]\n",
      " [7. 8. 9.]]\n",
      "[[1.001 2.001 2.999]\n",
      " [4.001 5.001 5.999]\n",
      " [7.001 8.001 8.999]]\n",
      "[[1. 2. 3.]]\n",
      "[[1.001 2.001 2.999]]\n"
     ]
    }
   ],
   "source": [
    "np.random.seed(42)\n",
    "# model = ndl.nn.Sequential(ndl.nn.Linear(64, 32), ndl.nn.ReLU(), ndl.nn.Linear(32, 16))\n",
    "model = ndl.nn.Linear(3, 3)\n",
    "model.weight.cached_data = w\n",
    "model.bias.cached_data = b\n",
    "X = get_tensor(1024, 3).cached_data\n",
    "y = get_int_tensor(1024, low=0, high=3).cached_data.astype(np.uint8)\n",
    "m = X.shape[0]\n",
    "batch = 32\n",
    "\n",
    "loss_func = ndl.nn.SoftmaxLoss()\n",
    "opt = ndl.optim.Adam(model.parameters(), lr=0.001)\n",
    "X, y = ndl.Tensor(X, dtype=\"float32\"), ndl.Tensor(y)\n",
    "opt.reset_grad()\n",
    "out = model(X)\n",
    "loss = loss_func(out, y)\n",
    "loss.backward()\n",
    "opt.step()\n",
    "# for _ in range(1):\n",
    "#     for i, (X0, y0) in enumerate(\n",
    "#         zip(np.array_split(X, m // batch), np.array_split(y, m // batch))\n",
    "#     ):\n",
    "#         opt.reset_grad()\n",
    "#         X0, y0 = ndl.Tensor(X0, dtype=\"float32\"), ndl.Tensor(y0)\n",
    "#         out = model(X0)\n",
    "#         print(torch.tensor(out.detach().numpy()).norm().item(), end=\"\\t\")\n",
    "#         loss = loss_func(out, y0)\n",
    "#         print(loss)\n",
    "#         loss.backward()\n",
    "#         opt.step()"
   ]
  },
  {
   "cell_type": "code",
   "execution_count": 390,
   "id": "ff343e7f-ea8b-4ef4-9d4b-4ec51efedd04",
   "metadata": {},
   "outputs": [
    {
     "data": {
      "text/plain": [
       "needle.Tensor([[-0.89875501 -0.84187789  1.74063291]\n",
       " [-0.8917634  -0.86913744  1.76090084]\n",
       " [-0.91356435 -0.8470975   1.76066185]])"
      ]
     },
     "execution_count": 390,
     "metadata": {},
     "output_type": "execute_result"
    }
   ],
   "source": [
    "model.weight.grad"
   ]
  },
  {
   "cell_type": "code",
   "execution_count": 391,
   "id": "f4de6e9a-12ec-4223-921a-3f0c2036bdbe",
   "metadata": {},
   "outputs": [
    {
     "data": {
      "text/plain": [
       "needle.Tensor([[-0.36216823 -0.34370205  0.70587028]])"
      ]
     },
     "execution_count": 391,
     "metadata": {},
     "output_type": "execute_result"
    }
   ],
   "source": [
    "model.bias.grad"
   ]
  },
  {
   "cell_type": "code",
   "execution_count": 392,
   "id": "9b5a48f3-2198-482b-a709-5a2fca0b3fb8",
   "metadata": {},
   "outputs": [
    {
     "data": {
      "text/plain": [
       "needle.Tensor([[1.001 2.001 2.999]\n",
       " [4.001 5.001 5.999]\n",
       " [7.001 8.001 8.999]])"
      ]
     },
     "execution_count": 392,
     "metadata": {},
     "output_type": "execute_result"
    }
   ],
   "source": [
    "model.weight.data"
   ]
  },
  {
   "cell_type": "code",
   "execution_count": 393,
   "id": "94766c1a-cd14-43bb-b4ec-83d4cc21488e",
   "metadata": {},
   "outputs": [
    {
     "data": {
      "text/plain": [
       "needle.Tensor([[1.001 2.001 2.999]])"
      ]
     },
     "execution_count": 393,
     "metadata": {},
     "output_type": "execute_result"
    }
   ],
   "source": [
    "model.bias.data"
   ]
  },
  {
   "cell_type": "code",
   "execution_count": 394,
   "id": "69981522-77c2-40d9-9fc2-e127b44ab959",
   "metadata": {},
   "outputs": [],
   "source": [
    "w = torch.tensor(\n",
    "    [[1.0, 2.0, 3.0], [4.0, 5.0, 6.0], [7.0, 8.0, 9.0]], dtype=torch.float64\n",
    ")\n",
    "b = torch.tensor([[1.0, 2.0, 3.0]], dtype=torch.float64)"
   ]
  },
  {
   "cell_type": "code",
   "execution_count": 395,
   "id": "9a0c37df-d49e-4053-9fb0-84555fc142c2",
   "metadata": {
    "tags": []
   },
   "outputs": [],
   "source": [
    "np.random.seed(42)\n",
    "# model = nn.Sequential(nn.Linear(64, 32), nn.ReLU(), nn.Linear(32, 16))\n",
    "model = nn.Linear(3, 3)\n",
    "model.weight = nn.Parameter(w.T)\n",
    "model.bias = nn.Parameter(b)\n",
    "loss_func = nn.CrossEntropyLoss()\n",
    "opt = torch.optim.SGD(model.parameters(), lr=0.001)\n",
    "X, y = torch.tensor(X.detach().numpy(), dtype=torch.float64), torch.tensor(\n",
    "    y.detach().numpy()\n",
    ")\n",
    "# out0 = torch.tensor(X) @ w + b\n",
    "opt.zero_grad()\n",
    "out1 = model(X)\n",
    "loss = loss_func(out1, y)\n",
    "loss.backward()\n",
    "opt.step()\n",
    "# for _ in range(1):\n",
    "#     for i, (X0, y0) in enumerate(\n",
    "#         zip(np.array_split(X, m // batch), np.array_split(y, m // batch))\n",
    "#     ):\n",
    "#         opt.zero_grad()\n",
    "#         X0, y0 = torch.tensor(X0, dtype=torch.float64), torch.tensor(y0)\n",
    "#         out = model(X0)\n",
    "#         print(out.norm().item(), end=\"\\t\")\n",
    "#         loss = loss_func(out, y0)\n",
    "#         print(loss.item())\n",
    "#         loss.backward()\n",
    "#         opt.step()"
   ]
  },
  {
   "cell_type": "code",
   "execution_count": 396,
   "id": "8c882bf3-1b90-44b0-b479-27b61c859c91",
   "metadata": {},
   "outputs": [
    {
     "data": {
      "text/plain": [
       "tensor([[-0.8988, -0.8419,  1.7406],\n",
       "        [-0.8918, -0.8691,  1.7609],\n",
       "        [-0.9136, -0.8471,  1.7607]], dtype=torch.float64)"
      ]
     },
     "execution_count": 396,
     "metadata": {},
     "output_type": "execute_result"
    }
   ],
   "source": [
    "model.weight.grad.T"
   ]
  },
  {
   "cell_type": "code",
   "execution_count": 397,
   "id": "fb646210-00c6-4d30-9fa4-6da7e82e8f4d",
   "metadata": {},
   "outputs": [
    {
     "data": {
      "text/plain": [
       "tensor([[-0.3622, -0.3437,  0.7059]], dtype=torch.float64)"
      ]
     },
     "execution_count": 397,
     "metadata": {},
     "output_type": "execute_result"
    }
   ],
   "source": [
    "model.bias.grad"
   ]
  },
  {
   "cell_type": "code",
   "execution_count": 398,
   "id": "c38a0a49-5843-4672-b1aa-40a821b162da",
   "metadata": {},
   "outputs": [
    {
     "data": {
      "text/plain": [
       "tensor([[1.0009, 2.0008, 2.9983],\n",
       "        [4.0009, 5.0009, 5.9982],\n",
       "        [7.0009, 8.0008, 8.9982]], dtype=torch.float64)"
      ]
     },
     "execution_count": 398,
     "metadata": {},
     "output_type": "execute_result"
    }
   ],
   "source": [
    "model.weight.data.T"
   ]
  },
  {
   "cell_type": "code",
   "execution_count": 399,
   "id": "4acfc9b4-08ba-455f-bbbe-8b1c95c8aa2a",
   "metadata": {},
   "outputs": [
    {
     "data": {
      "text/plain": [
       "tensor([[1.0004, 2.0003, 2.9993]], dtype=torch.float64)"
      ]
     },
     "execution_count": 399,
     "metadata": {},
     "output_type": "execute_result"
    }
   ],
   "source": [
    "model.bias.data"
   ]
  },
  {
   "cell_type": "code",
   "execution_count": null,
   "id": "2513b01d-aa31-4936-8808-ac9a4a8d6f30",
   "metadata": {},
   "outputs": [],
   "source": []
  }
 ],
 "metadata": {
  "kernelspec": {
   "display_name": "Python 3 (ipykernel)",
   "language": "python",
   "name": "python3"
  },
  "language_info": {
   "codemirror_mode": {
    "name": "ipython",
    "version": 3
   },
   "file_extension": ".py",
   "mimetype": "text/x-python",
   "name": "python",
   "nbconvert_exporter": "python",
   "pygments_lexer": "ipython3",
   "version": "3.10.4"
  }
 },
 "nbformat": 4,
 "nbformat_minor": 5
}
